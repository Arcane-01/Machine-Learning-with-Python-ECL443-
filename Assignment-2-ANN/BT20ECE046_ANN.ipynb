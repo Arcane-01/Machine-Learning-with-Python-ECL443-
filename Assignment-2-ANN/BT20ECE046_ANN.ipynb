{
 "cells": [
  {
   "cell_type": "code",
   "execution_count": 66,
   "id": "f3c832cd",
   "metadata": {},
   "outputs": [],
   "source": [
    "import numpy as np\n",
    "from scipy.io import loadmat\n",
    "import matplotlib.pyplot as plt"
   ]
  },
  {
   "cell_type": "code",
   "execution_count": 67,
   "id": "2d0b7424",
   "metadata": {},
   "outputs": [
    {
     "name": "stdout",
     "output_type": "stream",
     "text": [
      "dict_keys(['__header__', '__version__', '__globals__', 'ovarianInputs', 'ovarianTargets'])\n",
      "(100, 151) (100, 32) (100, 33) (2, 151) (2, 32) (2, 33)\n",
      "Training data size:  (100, 151)\n",
      "Training label size:  (2, 151)\n",
      "Testing data size:  (100, 32)\n",
      "Testing label size:  (2, 32)\n",
      "Validation data size:  (100, 33)\n",
      "Validation label size:  (2, 33)\n"
     ]
    }
   ],
   "source": [
    "def load_file(path):\n",
    "    np.random.seed(10)\n",
    "    data = loadmat(path)\n",
    "    X = data['ovarianInputs'].T\n",
    "    Y = data['ovarianTargets'].T\n",
    "    print(data.keys())\n",
    "    indices = np.random.permutation(len(Y))\n",
    "    X = X[indices]\n",
    "    Y = Y[indices]\n",
    "    X_train, X_test, X_val = np.split(X, [int(len(X)*0.7), int(len(X)*0.85)])\n",
    "    Y_train, Y_test, Y_val = np.split(Y, [int(len(Y)*0.7), int(len(Y)*0.85)])\n",
    "    #normalize data\n",
    "    X_train = (X_train - np.mean(X_train, axis=0))/np.std(X_train, axis=0)\n",
    "    X_test = (X_test - np.mean(X_test, axis=0))/np.std(X_test, axis=0)\n",
    "    X_val = (X_val - np.mean(X_val, axis=0))/np.std(X_val, axis=0)\n",
    "    print(X_train.T.shape, X_test.T.shape, X_val.T.shape, Y_train.T.shape, Y_test.T.shape, Y_val.T.shape)\n",
    "    print(\"Training data size: \",X_train.T.shape)\n",
    "    print(\"Training label size: \",Y_train.T.shape)\n",
    "    print(\"Testing data size: \",X_test.T.shape)\n",
    "    print(\"Testing label size: \",Y_test.T.shape)\n",
    "    print(\"Validation data size: \",X_val.T.shape)\n",
    "    print(\"Validation label size: \",Y_val.T.shape)\n",
    "    return X_train.T, X_test.T,Y_train.T,Y_test.T,X_val.T,Y_val.T\n",
    "\n",
    "dataset = load_file('C:/Users/Prajyot/Downloads/ovarian_dataset.mat')"
   ]
  },
  {
   "cell_type": "code",
   "execution_count": 68,
   "id": "dd2ccc6a",
   "metadata": {},
   "outputs": [
    {
     "name": "stdout",
     "output_type": "stream",
     "text": [
      "Epoch 1: Cost -0.1281306033411062, Val_accuracy 0.5454545454545454\n",
      "Epoch 2: Cost -0.05264228550853542, Val_accuracy 0.6666666666666666\n",
      "Epoch 3: Cost -0.016604383854513155, Val_accuracy 0.7878787878787878\n",
      "Epoch 4: Cost 0.00028422346262602094, Val_accuracy 0.8181818181818182\n",
      "Epoch 5: Cost 0.007980468142481462, Val_accuracy 0.8181818181818182\n",
      "Epoch 6: Cost 0.01132770799487437, Val_accuracy 0.8181818181818182\n",
      "Epoch 7: Cost 0.012665107466805853, Val_accuracy 0.8181818181818182\n",
      "Epoch 8: Cost 0.01311118387238075, Val_accuracy 0.8181818181818182\n",
      "Epoch 9: Cost 0.013191827806549622, Val_accuracy 0.7878787878787878\n",
      "Epoch 10: Cost 0.01314693785012952, Val_accuracy 0.7878787878787878\n",
      "Epoch 11: Cost 0.013079880387603604, Val_accuracy 0.7878787878787878\n",
      "Epoch 12: Cost 0.013030117510442099, Val_accuracy 0.8181818181818182\n",
      "Epoch 13: Cost 0.013008284905737494, Val_accuracy 0.8181818181818182\n",
      "Epoch 14: Cost 0.013012935424762825, Val_accuracy 0.8181818181818182\n",
      "Epoch 15: Cost 0.013038354935778124, Val_accuracy 0.8181818181818182\n",
      "Epoch 16: Cost 0.013078057300124818, Val_accuracy 0.8181818181818182\n",
      "Epoch 17: Cost 0.013126213777280765, Val_accuracy 0.8181818181818182\n",
      "Epoch 18: Cost 0.013178118554637241, Val_accuracy 0.8181818181818182\n",
      "Epoch 19: Cost 0.013230225508948909, Val_accuracy 0.8181818181818182\n",
      "Epoch 20: Cost 0.013280012907957384, Val_accuracy 0.8181818181818182\n",
      "Epoch 21: Cost 0.01332579614670476, Val_accuracy 0.8484848484848485\n",
      "Epoch 22: Cost 0.013366541903564177, Val_accuracy 0.8484848484848485\n",
      "Epoch 23: Cost 0.013401704910261852, Val_accuracy 0.8484848484848485\n",
      "Epoch 24: Cost 0.013431093382344328, Val_accuracy 0.8484848484848485\n",
      "Epoch 25: Cost 0.013454762391848354, Val_accuracy 0.8484848484848485\n",
      "Epoch 26: Cost 0.01347293177861536, Val_accuracy 0.8484848484848485\n",
      "Epoch 27: Cost 0.013485924449089803, Val_accuracy 0.8484848484848485\n",
      "Epoch 28: Cost 0.013494121038161555, Val_accuracy 0.8484848484848485\n",
      "Epoch 29: Cost 0.013497927387506853, Val_accuracy 0.8484848484848485\n",
      "Epoch 30: Cost 0.013497751871180921, Val_accuracy 0.8484848484848485\n",
      "Epoch 31: Cost 0.013493990160517652, Val_accuracy 0.8484848484848485\n",
      "Epoch 32: Cost 0.013487015518255985, Val_accuracy 0.8484848484848485\n",
      "Epoch 33: Cost 0.01347717313204741, Val_accuracy 0.8484848484848485\n",
      "Epoch 34: Cost 0.013464777341459622, Val_accuracy 0.8484848484848485\n",
      "Epoch 35: Cost 0.013450110888289388, Val_accuracy 0.8484848484848485\n",
      "Epoch 36: Cost 0.013433425537514074, Val_accuracy 0.8484848484848485\n",
      "Epoch 37: Cost 0.013414943585710049, Val_accuracy 0.8787878787878788\n",
      "Epoch 38: Cost 0.01339485990438527, Val_accuracy 0.8787878787878788\n",
      "Epoch 39: Cost 0.013373344265360423, Val_accuracy 0.8787878787878788\n",
      "Epoch 40: Cost 0.013350543770643847, Val_accuracy 0.8787878787878788\n",
      "Epoch 41: Cost 0.013326585265558535, Val_accuracy 0.8787878787878788\n",
      "Epoch 42: Cost 0.013301577655537924, Val_accuracy 0.8787878787878788\n",
      "Epoch 43: Cost 0.013275614077398551, Val_accuracy 0.8787878787878788\n",
      "Epoch 44: Cost 0.013248773897772737, Val_accuracy 0.8787878787878788\n",
      "Epoch 45: Cost 0.013221124526792943, Val_accuracy 0.8787878787878788\n",
      "Epoch 46: Cost 0.01319272304572161, Val_accuracy 0.8787878787878788\n",
      "Epoch 47: Cost 0.01316361765427694, Val_accuracy 0.8787878787878788\n",
      "Epoch 48: Cost 0.013133848947841392, Val_accuracy 0.8787878787878788\n",
      "Epoch 49: Cost 0.01310345103730659, Val_accuracy 0.8787878787878788\n",
      "Epoch 50: Cost 0.013072452525551476, Val_accuracy 0.8787878787878788\n",
      "Epoch 51: Cost 0.013040877354867003, Val_accuracy 0.8787878787878788\n",
      "Epoch 52: Cost 0.013008745539338146, Val_accuracy 0.8787878787878788\n",
      "Epoch 53: Cost 0.01297607379550092, Val_accuracy 0.8787878787878788\n",
      "Epoch 54: Cost 0.012942876083661098, Val_accuracy 0.8787878787878788\n",
      "Epoch 55: Cost 0.01290916407119612, Val_accuracy 0.8787878787878788\n",
      "Epoch 56: Cost 0.012874947528076802, Val_accuracy 0.8787878787878788\n",
      "Epoch 57: Cost 0.012840234663749645, Val_accuracy 0.8787878787878788\n",
      "Epoch 58: Cost 0.012805032413480286, Val_accuracy 0.8787878787878788\n",
      "Epoch 59: Cost 0.012769346681286015, Val_accuracy 0.8787878787878788\n",
      "Epoch 60: Cost 0.012733182545688837, Val_accuracy 0.8787878787878788\n",
      "Epoch 61: Cost 0.0126965444337106, Val_accuracy 0.8787878787878788\n",
      "Epoch 62: Cost 0.01265943626780297, Val_accuracy 0.8787878787878788\n",
      "Epoch 63: Cost 0.012621861589760558, Val_accuracy 0.9090909090909091\n",
      "Epoch 64: Cost 0.012583823665094654, Val_accuracy 0.9090909090909091\n",
      "Epoch 65: Cost 0.012545325570847005, Val_accuracy 0.9090909090909091\n",
      "Epoch 66: Cost 0.012506370269390665, Val_accuracy 0.9090909090909091\n",
      "Epoch 67: Cost 0.012466960670382055, Val_accuracy 0.9090909090909091\n",
      "Epoch 68: Cost 0.012427099682709386, Val_accuracy 0.9090909090909091\n",
      "Epoch 69: Cost 0.012386790258000047, Val_accuracy 0.9090909090909091\n",
      "Epoch 70: Cost 0.012346035427006519, Val_accuracy 0.9090909090909091\n",
      "Epoch 71: Cost 0.01230483832998995, Val_accuracy 0.9090909090909091\n",
      "Epoch 72: Cost 0.012263202242041929, Val_accuracy 0.9090909090909091\n",
      "Epoch 73: Cost 0.012221130594136459, Val_accuracy 0.9090909090909091\n",
      "Epoch 74: Cost 0.012178626990579478, Val_accuracy 0.9090909090909091\n",
      "Epoch 75: Cost 0.012135695223410015, Val_accuracy 0.9090909090909091\n",
      "Epoch 76: Cost 0.012092339284225567, Val_accuracy 0.9090909090909091\n",
      "Epoch 77: Cost 0.01204856337381996, Val_accuracy 0.9090909090909091\n",
      "Epoch 78: Cost 0.012004371909957554, Val_accuracy 0.9090909090909091\n",
      "Epoch 79: Cost 0.011959769533561482, Val_accuracy 0.9090909090909091\n",
      "Epoch 80: Cost 0.011914761113534136, Val_accuracy 0.9393939393939394\n",
      "Epoch 81: Cost 0.011869351750405516, Val_accuracy 0.9393939393939394\n",
      "Epoch 82: Cost 0.011823546778957986, Val_accuracy 0.9393939393939394\n",
      "Epoch 83: Cost 0.011777351769959032, Val_accuracy 0.9393939393939394\n",
      "Epoch 84: Cost 0.011730772531109657, Val_accuracy 0.9393939393939394\n",
      "Epoch 85: Cost 0.011683815107291912, Val_accuracy 0.9393939393939394\n",
      "Epoch 86: Cost 0.011636485780189637, Val_accuracy 0.9393939393939394\n",
      "Epoch 87: Cost 0.011588791067341842, Val_accuracy 0.9393939393939394\n",
      "Epoch 88: Cost 0.011540737720676, Val_accuracy 0.9393939393939394\n",
      "Epoch 89: Cost 0.011492332724558713, Val_accuracy 0.9393939393939394\n",
      "Epoch 90: Cost 0.011443583293399784, Val_accuracy 0.9393939393939394\n",
      "Epoch 91: Cost 0.011394496868834564, Val_accuracy 0.9393939393939394\n",
      "Epoch 92: Cost 0.011345081116503078, Val_accuracy 0.9393939393939394\n",
      "Epoch 93: Cost 0.011295343922450171, Val_accuracy 0.9393939393939394\n",
      "Epoch 94: Cost 0.011245293389154712, Val_accuracy 0.9393939393939394\n",
      "Epoch 95: Cost 0.011194937831204135, Val_accuracy 0.9393939393939394\n",
      "Epoch 96: Cost 0.011144285770623236, Val_accuracy 0.9393939393939394\n",
      "Epoch 97: Cost 0.011093345931869086, Val_accuracy 0.9393939393939394\n",
      "Epoch 98: Cost 0.011042127236494503, Val_accuracy 0.9696969696969697\n",
      "Epoch 99: Cost 0.010990638797495025, Val_accuracy 0.9696969696969697\n",
      "Epoch 100: Cost 0.010938889913341049, Val_accuracy 0.9696969696969697\n"
     ]
    }
   ],
   "source": [
    "m = 1\n",
    "def initialize(n_x,C1,C2):\n",
    "#     global W,b\n",
    "    np.random.seed(10)\n",
    "    W1 = np.random.randn(n_x,C1)*0.1\n",
    "    b1 = np.zeros((C1,1))\n",
    "    W2 = np.random.randn(C1,C2)*0.1\n",
    "    b2 = np.zeros((C2,1))\n",
    "\n",
    "    return W1, b1, W2, b2\n",
    "\n",
    "def softmax(z):\n",
    "    t = np.exp(z)\n",
    "    a = t / np.sum(t, keepdims=True, axis=0)\n",
    "    return a\n",
    "\n",
    "def sigmoid(z):\n",
    "    return 1/(1+np.exp(-z))\n",
    "\n",
    "def forward(W, X, b,activation=None):\n",
    "#     global Z,A\n",
    "    Z = np.dot(W.T, X) + b # Z.shape is (C,m)\n",
    "    if activation == 'sigmoid':\n",
    "        A = sigmoid(Z)\n",
    "    else:\n",
    "        A = Z\n",
    "    return Z, A\n",
    "def cost(A, Y_hot):\n",
    "#     global L,J\n",
    "# Calculate Loss\n",
    "    L = 0.5*np.sum((A-Y_hot),keepdims=True, axis=0) # L.shape is (C,m)\n",
    "    J = np.mean(L)\n",
    "    return L,J\n",
    "\n",
    "# Genralized backprop function for multiple layers\n",
    "def backward(X, Y_hot, A, Z, W, b, activation=None,cache=None):\n",
    "#     global dW,db\n",
    "    if activation == 'softmax':\n",
    "        dZ = A - Y_hot\n",
    "    elif activation == 'sigmoid':\n",
    "        dZ = np.dot(cache[1],cache[0])*A*(1-A)\n",
    "    else:\n",
    "        dZ = A - Y_hot\n",
    "\n",
    "    dW = np.dot(X, dZ.T)/m\n",
    "    db = np.mean(dZ, keepdims=True, axis=1)\n",
    "    return dW, db,dZ\n",
    "\n",
    "def update(W, b, dW, db, learning_rate):\n",
    "    W = W - learning_rate*dW\n",
    "    b = b - learning_rate*db\n",
    "    return W,b\n",
    "\n",
    "def SGD(X, Y_hot, W1, b1, W2, b2, learning_rate):\n",
    "    Z1, A1 = forward(W1, X, b1, 'sigmoid')\n",
    "    Z2, A2 = forward(W2, A1, b2, 'softmax')\n",
    "    L, J = cost(A2, Y_hot)\n",
    "    dW2, db2,dZ2 = backward(A1, Y_hot, A2, Z2, W2, b2)\n",
    "    dW1, db1,_ = backward(X, Y_hot, A1, Z1, W1, b1, 'sigmoid',cache=(dZ2,W2))\n",
    "    W1,b1 = update(W1, b1, dW1, db1, learning_rate)\n",
    "    W2,b2 = update(W2, b2, dW2, db2, learning_rate)\n",
    "    return W1,b1,W2,b2,J\n",
    "\n",
    "\n",
    "def predict(W1, b1, W2, b2, X):\n",
    "    _, A1 = forward(W1, X, b1, 'sigmoid')\n",
    "    _, A2 = forward(W2, A1, b2, 'softmax')\n",
    "    return A2\n",
    "\n",
    "def accuracy(Y_pred, Y):\n",
    "    return np.mean(Y_pred == Y)\n",
    "\n",
    "W1, b1, W2, b2 = initialize(100, 15, 2)\n",
    "learning_rate = 0.001\n",
    "costs = []\n",
    "accs = []\n",
    "#use SGD to train the model and validate at same time\n",
    "for i in range(100):\n",
    "    for j in range(dataset[0].shape[1]):\n",
    "        X = dataset[0][:,j].reshape(-1,1)\n",
    "        Y = dataset[2][:,j].reshape(-1,1)\n",
    "        W1,b1,W2,b2,J = SGD(X, Y, W1, b1, W2, b2, learning_rate)\n",
    "    costs.append(abs(J))\n",
    "    #validate\n",
    "    Y_pred = predict(W1, b1, W2, b2, dataset[4])\n",
    "    acc = accuracy(np.argmax(Y_pred, axis=0), np.argmax(dataset[5], axis=0))\n",
    "    print(f'Epoch {i+1}: Cost {J}, Val_accuracy {acc}')\n",
    "    accs.append(acc)\n",
    "\n",
    "# plt.plot(costs)\n",
    "# plt.show()\n",
    "# plt.plot(accs)\n",
    "# plt.show()\n",
    "\n",
    "Y_pred = predict(W1, b1, W2, b2, dataset[1])\n",
    "\n",
    "# confusion matrix\n",
    "from sklearn.metrics import confusion_matrix\n",
    "Y_final = np.where(Y_pred >= 0.6, 1, 0)\n",
    "accuracy(Y_final,dataset[3])\n",
    "# print(\"Accuracy: \", accuracy(Y_final,dataset[3])*100,\"%\")\n",
    "cfm = confusion_matrix(np.argmax(dataset[3],axis=0), np.argmax(Y_pred, axis=0))\n",
    "TP = cfm[0][0]\n",
    "TN = cfm[1][1]\n",
    "FP = cfm[1][0]\n",
    "FN = cfm[1][0]\n",
    "#Specificity\n",
    "Specificity = TN/(TN+FP)\n",
    "#Sensitivity\n",
    "Sensitivity = TP/(TP+FN)\n",
    "# print(f'Specificity: {Specificity}, Sensitivity: {Sensitivity}')"
   ]
  },
  {
   "cell_type": "code",
   "execution_count": 69,
   "id": "2937518c",
   "metadata": {},
   "outputs": [
    {
     "name": "stdout",
     "output_type": "stream",
     "text": [
      "Accuracy:  92.1875 %\n",
      "Specificity: 0.9333333333333333, Sensitivity: 0.9411764705882353\n"
     ]
    }
   ],
   "source": [
    "print(\"Accuracy: \", accuracy(Y_final,dataset[3])*100,\"%\")\n",
    "print(f'Specificity: {Specificity}, Sensitivity: {Sensitivity}')"
   ]
  },
  {
   "cell_type": "code",
   "execution_count": 70,
   "id": "94b4cf83",
   "metadata": {},
   "outputs": [
    {
     "data": {
      "text/plain": [
       "Text(0.5, 1.0, 'Validation Accuracy vs Epoch')"
      ]
     },
     "execution_count": 70,
     "metadata": {},
     "output_type": "execute_result"
    },
    {
     "data": {
      "image/png": "[encoded data removed]",
      "text/plain": [
       "<Figure size 640x480 with 1 Axes>"
      ]
     },
     "metadata": {},
     "output_type": "display_data"
    }
   ],
   "source": [
    "plt.plot(accs)\n",
    "plt.xlabel('Epoch')\n",
    "plt.ylabel('Validation Accuracy')\n",
    "plt.title('Validation Accuracy vs Epoch')"
   ]
  },
  {
   "cell_type": "code",
   "execution_count": 71,
   "id": "b73b6f8b",
   "metadata": {},
   "outputs": [
    {
     "data": {
      "image/png": "[encoded data removed]",
      "text/plain": [
       "<Figure size 640x480 with 1 Axes>"
      ]
     },
     "metadata": {},
     "output_type": "display_data"
    }
   ],
   "source": [
    "plt.plot(costs)\n",
    "plt.xlabel('Epoch')\n",
    "plt.ylabel('Loss')\n",
    "plt.title('Loss vs Epoch')\n",
    "plt.show()"
   ]
  },
  {
   "cell_type": "code",
   "execution_count": 72,
   "id": "f79dba72",
   "metadata": {},
   "outputs": [
    {
     "data": {
      "text/plain": [
       "Text(0.5, 1.0, 'ROC Curve')"
      ]
     },
     "execution_count": 72,
     "metadata": {},
     "output_type": "execute_result"
    },
    {
     "data": {
      "image/png": "[encoded data removed]",
      "text/plain": [
       "<Figure size 640x480 with 1 Axes>"
      ]
     },
     "metadata": {},
     "output_type": "display_data"
    }
   ],
   "source": [
    "# ROC curve\n",
    "from sklearn.metrics import roc_curve\n",
    "fpr, tpr, thresholds = roc_curve(np.argmax(dataset[3],axis=0), np.argmax(Y_pred, axis=0))\n",
    "plt.plot(fpr, tpr)\n",
    "plt.xlabel('FPR')\n",
    "plt.ylabel('TPR')\n",
    "plt.title('ROC Curve')"
   ]
  },
  {
   "cell_type": "code",
   "execution_count": 73,
   "id": "367399cd",
   "metadata": {},
   "outputs": [
    {
     "name": "stdout",
     "output_type": "stream",
     "text": [
      "Accuracy:  92.1875 %\n",
      "Specificity: 0.9333333333333333, Sensitivity: 0.9411764705882353\n",
      "AUC =  0.9372549019607843\n"
     ]
    }
   ],
   "source": [
    "#AUC\n",
    "from sklearn.metrics import auc\n",
    "print(\"Accuracy: \", accuracy(Y_final,dataset[3])*100,\"%\")\n",
    "print(f'Specificity: {Specificity}, Sensitivity: {Sensitivity}')\n",
    "print(\"AUC = \",auc(fpr, tpr))"
   ]
  },
  {
   "cell_type": "code",
   "execution_count": null,
   "id": "a9ddf9bf",
   "metadata": {},
   "outputs": [],
   "source": []
  }
 ],
 "metadata": {
  "kernelspec": {
   "display_name": "Python 3 (ipykernel)",
   "language": "python",
   "name": "python3"
  },
  "language_info": {
   "codemirror_mode": {
    "name": "ipython",
    "version": 3
   },
   "file_extension": ".py",
   "mimetype": "text/x-python",
   "name": "python",
   "nbconvert_exporter": "python",
   "pygments_lexer": "ipython3",
   "version": "3.11.4"
  }
 },
 "nbformat": 4,
 "nbformat_minor": 5
}
