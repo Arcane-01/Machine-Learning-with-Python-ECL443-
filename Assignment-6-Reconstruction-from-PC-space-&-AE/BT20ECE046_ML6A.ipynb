{
  "nbformat": 4,
  "nbformat_minor": 0,
  "metadata": {
    "colab": {
      "provenance": []
    },
    "kernelspec": {
      "name": "python3",
      "display_name": "Python 3"
    },
    "language_info": {
      "name": "python"
    }
  },
  "cells": [
    {
      "cell_type": "code",
      "execution_count": null,
      "metadata": {
        "id": "1a85fdb4"
      },
      "outputs": [],
      "source": [
        "import scipy.io\n",
        "import csv\n",
        "import numpy as np\n",
        "import random\n",
        "import matplotlib.pyplot as plt\n",
        "import torch\n",
        "import torch.nn as nn\n",
        "import torch.nn.functional as F"
      ]
    },
    {
      "cell_type": "code",
      "execution_count": null,
      "metadata": {
        "id": "35ef3dd7"
      },
      "outputs": [],
      "source": [
        "# Load .mat file\n",
        "mat = scipy.io.loadmat('/content/ovarian_dataset.mat')\n",
        "\n",
        "# Specify the variable name to convert to CSV\n",
        "variable_name1 = 'ovarianInputs'\n",
        "variable_name2 = 'ovarianTargets'\n",
        "# Get the data from the loaded .mat file\n",
        "#print(mat)\n",
        "data1 = mat[variable_name1]\n",
        "data2 = mat[variable_name2]\n",
        "\n",
        "# Specify the CSV file name\n",
        "csv_file_1 = '/content/data_1.csv'\n",
        "csv_file_2 = '/content/data_2.csv'\n",
        "\n",
        "# Write the data to CSV\n",
        "with open(csv_file_1, 'w', newline='') as csvfile:\n",
        "    csvwriter = csv.writer(csvfile)\n",
        "    #for row in data1:\n",
        "    #    csvwriter.writerow(row)\n",
        "    for idx, row in enumerate(data1):\n",
        "        csvwriter.writerow(row)\n",
        "\n",
        "with open(csv_file_2, 'w', newline='') as csvfile:\n",
        "    csvwriter = csv.writer(csvfile)\n",
        "    #for row in data1:\n",
        "    #    csvwriter.writerow(row)\n",
        "    for idx, row in enumerate(data2):\n",
        "        csvwriter.writerow(row)"
      ]
    },
    {
      "cell_type": "code",
      "execution_count": null,
      "metadata": {
        "colab": {
          "base_uri": "https://localhost:8080/"
        },
        "id": "c63914fb",
        "outputId": "620e909d-b650-45d4-d841-6394c5d24529"
      },
      "outputs": [
        {
          "output_type": "stream",
          "name": "stdout",
          "text": [
            "[[0.4629009  0.37056538 0.46155038 ... 0.58252597 0.6376844  0.5285913 ]\n",
            " [0.4067361  0.30643103 0.27898014 ... 0.44979998 0.4997217  0.4531509 ]\n",
            " [0.30621526 0.23971474 0.20660846 ... 0.3448874  0.33761558 0.41943002]\n",
            " ...\n",
            " [0.08009822 0.23816822 0.23361854 ... 0.15979104 0.1340081  0.1597645 ]\n",
            " [0.14462107 0.18637255 0.17546801 ... 0.10701832 0.13891271 0.2990377 ]\n",
            " [0.10640488 0.12637317 0.0999025  ... 0.17790702 0.17760101 0.17012326]]\n"
          ]
        }
      ],
      "source": [
        "#Reading Data from .csv file\n",
        "with open('/content/data_1.csv', 'r') as f:\n",
        "    reader = csv.reader(f)\n",
        "    data_features = list(reader)\n",
        "\n",
        "data_features = np.array(data_features,dtype=np.float32)\n",
        "\n",
        "with open('/content/data_2.csv', 'r') as f:\n",
        "    reader = csv.reader(f)\n",
        "    data_labels = list(reader)\n",
        "\n",
        "data_labels = np.array(data_labels,dtype=np.float32)\n",
        "#data_labels = data_labels[0,:]\n",
        "#data_labels = data_labels.reshape((1,data_labels.shape[0]))\n",
        "#print(data_array.shape)\n",
        "#print(data_array)\n",
        "\n",
        "\n",
        "\n",
        "print(data_features)"
      ]
    },
    {
      "cell_type": "code",
      "execution_count": null,
      "metadata": {
        "colab": {
          "base_uri": "https://localhost:8080/"
        },
        "id": "58126cba",
        "outputId": "7e01d466-b7c2-43b4-8d4c-ef69330a3e33"
      },
      "outputs": [
        {
          "output_type": "stream",
          "name": "stdout",
          "text": [
            "(100, 216)\n",
            "216\n",
            "(100,)\n",
            "(100,)\n",
            "(216, 100)\n"
          ]
        }
      ],
      "source": [
        "def mean(x): # np.mean(X, axis = 0)\n",
        "    return sum(x)/len(x)\n",
        "\n",
        "def std(x): # np.std(X, axis = 0)\n",
        "    return (sum((i - mean(x))**2 for i in x)/len(x))**0.5\n",
        "\n",
        "def Standardize_data(X):\n",
        "    xx = X.transpose()\n",
        "    #print(xx)\n",
        "    summ = np.sum(xx, axis=0)\n",
        "    print(xx.shape[0])\n",
        "    mean = summ/xx.shape[0]\n",
        "    print(summ.shape)\n",
        "    stdd = np.std(xx,axis=0)\n",
        "    print(stdd.shape)\n",
        "    #X = X.transpose()\n",
        "    xx = (xx-mean)/stdd\n",
        "    #for i in range(X.shape[1]):\n",
        "    #  X[:i] = (X[:i]-summ[i])/stdd[i]\n",
        "\n",
        "    return xx\n",
        "print(data_features.shape)\n",
        "data_features = Standardize_data(data_features)\n",
        "print(data_features.shape)\n",
        "#data_features_2 = data_features.transpose()\n",
        "#print(data_features)"
      ]
    },
    {
      "cell_type": "code",
      "execution_count": null,
      "metadata": {
        "colab": {
          "base_uri": "https://localhost:8080/"
        },
        "id": "87be9dd7",
        "outputId": "e4d33d05-2c00-4989-929c-c4b0a4dcb7d5"
      },
      "outputs": [
        {
          "output_type": "stream",
          "name": "stdout",
          "text": [
            "(100, 100)\n"
          ]
        }
      ],
      "source": [
        "def covariance(x):\n",
        "    #print(x.shape[0])\n",
        "    return (x.T @ x)/(x.shape[0]-1)\n",
        "\n",
        "cov_mat = np.cov(data_features, rowvar=False)\n",
        "\n",
        "# cov_mat = covariance(data_features) # np.cov(X_std.T)\n",
        "print(cov_mat.shape)"
      ]
    },
    {
      "cell_type": "code",
      "execution_count": null,
      "metadata": {
        "colab": {
          "base_uri": "https://localhost:8080/"
        },
        "id": "bda5c145",
        "outputId": "b6e4e9bb-9d35-47f2-c540-a2d24408ef82"
      },
      "outputs": [
        {
          "output_type": "stream",
          "name": "stdout",
          "text": [
            "Eigenvalues \n",
            " [7.84054213e+01 8.32032252e+00 3.91809857e+00 1.62888417e+00\n",
            " 1.18350969e+00 8.60395752e-01 6.86109427e-01 5.48381705e-01\n",
            " 5.11726967e-01 4.32328117e-01 3.91658864e-01 3.56352970e-01\n",
            " 3.06453506e-01 2.74024718e-01 2.26937200e-01 2.23212617e-01\n",
            " 1.82571933e-01 1.61065701e-01 1.40923698e-01 1.26099187e-01\n",
            " 1.11294339e-01 1.07562216e-01 9.30050580e-02 7.29240002e-02\n",
            " 7.69962543e-02 7.94924540e-02 7.92188703e-02 6.23360753e-02\n",
            " 5.84389724e-02 5.69786908e-02 5.42114515e-02 5.12240857e-02\n",
            " 4.81764012e-02 4.68393325e-02 4.51938978e-02 4.17637908e-02\n",
            " 3.93793664e-02 4.00957372e-02 3.64093050e-02 3.22598790e-02\n",
            " 2.86401440e-02 2.77402597e-02 2.45263795e-02 2.19250389e-02\n",
            " 2.02315285e-02 1.92675495e-02 1.78447376e-02 1.65769087e-02\n",
            " 1.54961419e-02 1.45561485e-02 1.27550587e-02 1.22872265e-02\n",
            " 9.91471961e-03 1.07984317e-02 9.08446040e-03 8.35501288e-03\n",
            " 7.87855656e-03 6.98563252e-03 6.42938331e-03 5.87961168e-03\n",
            " 5.66909238e-03 4.51741802e-03 4.73289679e-03 3.78916420e-03\n",
            " 3.29092784e-03 3.15239745e-03 2.84699051e-03 2.51815896e-03\n",
            " 2.45508455e-03 2.28606640e-03 1.73612902e-03 1.54937037e-03\n",
            " 1.18313627e-03 1.24008882e-03 1.37534455e-03 9.13233861e-04\n",
            " 8.34397299e-04 6.99316817e-04 6.45634163e-04 5.25168762e-04\n",
            " 5.00251678e-04 4.23241034e-04 3.87269183e-04 3.00016590e-04\n",
            " 2.64636711e-04 1.00848477e-05 1.16242312e-05 2.27951666e-04\n",
            " 2.65450633e-05 1.77216705e-04 5.84767588e-05 7.87556997e-05\n",
            " 3.15569522e-04 6.40584483e-05 1.06902597e-04 1.20981524e-04\n",
            " 2.12573157e-04 1.49047145e-04 1.42061593e-04 1.27423430e-04]\n",
            "Eigenvectors \n",
            " [[ 0.10294294  0.102941    0.10200796 ... -0.08558719  0.09973182\n",
            "   0.09286085]\n",
            " [ 0.02125965  0.00514432 -0.00245739 ...  0.02664023  0.07525781\n",
            "   0.02171915]\n",
            " [-0.08439754 -0.07462813 -0.05876747 ...  0.04644946  0.06922676\n",
            "  -0.00564931]\n",
            " ...\n",
            " [-0.02766578  0.03124918 -0.02145902 ... -0.00215609  0.00167742\n",
            "  -0.00355118]\n",
            " [ 0.01156562 -0.00761202 -0.0046696  ... -0.00231868 -0.00023759\n",
            "   0.00102394]\n",
            " [-0.0054414   0.0128783  -0.01365091 ... -0.00223831 -0.00183924\n",
            "  -0.00116386]]\n"
          ]
        }
      ],
      "source": [
        "from numpy.linalg import eig\n",
        "\n",
        "# Eigendecomposition of covariance matrix\n",
        "eig_vals, eig_vecs = eig(cov_mat)\n",
        "\n",
        "# Adjusting the eigenvectors (loadings) that are largest in absolute value to be positive\n",
        "max_abs_idx = np.argmax(np.abs(eig_vecs), axis=0)\n",
        "signs = np.sign(eig_vecs[max_abs_idx, range(eig_vecs.shape[0])])\n",
        "eig_vecs = eig_vecs*signs[np.newaxis,:]\n",
        "eig_vecs = eig_vecs.T\n",
        "\n",
        "print('Eigenvalues \\n', eig_vals)\n",
        "print('Eigenvectors \\n', eig_vecs)"
      ]
    },
    {
      "cell_type": "code",
      "execution_count": null,
      "metadata": {
        "id": "243bfb8b"
      },
      "outputs": [],
      "source": [
        "# We first make a list of (eigenvalue, eigenvector) tuples\n",
        "eig_pairs = [(np.abs(eig_vals[i]), eig_vecs[i,:]) for i in range(len(eig_vals))]\n",
        "\n",
        "# Then, we sort the tuples from the highest to the lowest based on eigenvalues magnitude\n",
        "eig_pairs.sort(key=lambda x: x[0], reverse=True)\n",
        "\n",
        "# For further usage\n",
        "eig_vals_sorted = np.array([x[0] for x in eig_pairs])\n",
        "eig_vecs_sorted = np.array([x[1] for x in eig_pairs])\n",
        "\n",
        "#print(eig_pairs)"
      ]
    },
    {
      "cell_type": "code",
      "execution_count": null,
      "metadata": {
        "colab": {
          "base_uri": "https://localhost:8080/"
        },
        "id": "22428d2e",
        "outputId": "43cd2f25-9d12-4e70-e70b-62842a8f6697"
      },
      "outputs": [
        {
          "output_type": "stream",
          "name": "stdout",
          "text": [
            "78.0424331181483\n",
            "86.32423561316182\n",
            "90.22419483298711\n",
            "91.84553787421862\n",
            "93.02356835074033\n",
            "93.87998078817638\n",
            "94.56291378192621\n",
            "95.10875668238664\n",
            "8\n",
            "Explained variance: [7.804e+01 8.280e+00 3.900e+00 1.620e+00 1.180e+00 8.600e-01 6.800e-01\n",
            " 5.500e-01 5.100e-01 4.300e-01 3.900e-01 3.500e-01 3.100e-01 2.700e-01\n",
            " 2.300e-01 2.200e-01 1.800e-01 1.600e-01 1.400e-01 1.300e-01 1.100e-01\n",
            " 1.100e-01 9.000e-02 8.000e-02 8.000e-02 8.000e-02 7.000e-02 6.000e-02\n",
            " 6.000e-02 6.000e-02 5.000e-02 5.000e-02 5.000e-02 5.000e-02 4.000e-02\n",
            " 4.000e-02 4.000e-02 4.000e-02 4.000e-02 3.000e-02 3.000e-02 3.000e-02\n",
            " 2.000e-02 2.000e-02 2.000e-02 2.000e-02 2.000e-02 2.000e-02 2.000e-02\n",
            " 1.000e-02 1.000e-02 1.000e-02 1.000e-02 1.000e-02 1.000e-02 1.000e-02\n",
            " 1.000e-02 1.000e-02 1.000e-02 1.000e-02 1.000e-02 0.000e+00 0.000e+00\n",
            " 0.000e+00 0.000e+00 0.000e+00 0.000e+00 0.000e+00 0.000e+00 0.000e+00\n",
            " 0.000e+00 0.000e+00 0.000e+00 0.000e+00 0.000e+00 0.000e+00 0.000e+00\n",
            " 0.000e+00 0.000e+00 0.000e+00 0.000e+00 0.000e+00 0.000e+00 0.000e+00\n",
            " 0.000e+00 0.000e+00 0.000e+00 0.000e+00 0.000e+00 0.000e+00 0.000e+00\n",
            " 0.000e+00 0.000e+00 0.000e+00 0.000e+00 0.000e+00 0.000e+00 0.000e+00\n",
            " 0.000e+00 0.000e+00]\n",
            "Cumulative explained variance: [78.04 86.32 90.22 91.84 93.02 93.88 94.56 95.11 95.62 96.05 96.44 96.79\n",
            " 97.1  97.37 97.6  97.82 98.   98.16 98.3  98.43 98.54 98.65 98.74 98.82\n",
            " 98.9  98.98 99.05 99.11 99.17 99.23 99.28 99.33 99.38 99.43 99.47 99.51\n",
            " 99.55 99.59 99.63 99.66 99.69 99.72 99.74 99.76 99.78 99.8  99.82 99.84\n",
            " 99.86 99.87 99.88 99.89 99.9  99.91 99.92 99.93 99.94 99.95 99.96 99.97\n",
            " 99.98 99.98 99.98 99.98 99.98 99.98 99.98 99.98 99.98 99.98 99.98 99.98\n",
            " 99.98 99.98 99.98 99.98 99.98 99.98 99.98 99.98 99.98 99.98 99.98 99.98\n",
            " 99.98 99.98 99.98 99.98 99.98 99.98 99.98 99.98 99.98 99.98 99.98 99.98\n",
            " 99.98 99.98 99.98 99.98]\n",
            "(8, 100)\n"
          ]
        }
      ],
      "source": [
        "eig_vals_total = sum(eig_vals)\n",
        "i=0\n",
        "cum_sum = 0\n",
        "threshhold = 95\n",
        "while(cum_sum<threshhold):\n",
        "    cum_sum = cum_sum + eig_vals_sorted[i]/eig_vals_total*100\n",
        "    print(cum_sum)\n",
        "    i+=1\n",
        "print(i)\n",
        "explained_variance = [(i / eig_vals_total)*100 for i in eig_vals_sorted]\n",
        "explained_variance = np.round(explained_variance, 2)\n",
        "cum_explained_variance = np.cumsum(explained_variance)\n",
        "\n",
        "print('Explained variance: {}'.format(explained_variance))\n",
        "print('Cumulative explained variance: {}'.format(cum_explained_variance))\n",
        "\n",
        "#plt.plot(np.arange(1,n_features+1), cum_explained_variance, '-o')\n",
        "#plt.xticks(np.arange(1,n_features+1))\n",
        "#plt.xlabel('Number of components')\n",
        "#plt.ylabel('Cumulative explained variance');\n",
        "#plt.show()\n",
        "\n",
        "\n",
        "# Select top k eigenvectors\n",
        "k = i\n",
        "W1 = eig_vecs_sorted[:k, :] # Projection matrix\n",
        "\n",
        "print(W1.shape)"
      ]
    },
    {
      "cell_type": "code",
      "execution_count": null,
      "metadata": {
        "colab": {
          "base_uri": "https://localhost:8080/"
        },
        "id": "aa4c5f33",
        "outputId": "c1d4d093-303c-4b8a-e10c-b8c4e03c20c2"
      },
      "outputs": [
        {
          "output_type": "stream",
          "name": "stdout",
          "text": [
            "(216, 8)\n"
          ]
        }
      ],
      "source": [
        "X_proj1 = data_features.dot(W1.T)\n",
        "\n",
        "print(X_proj1.shape)"
      ]
    },
    {
      "cell_type": "code",
      "source": [
        "recons_data_features1 = X_proj1.dot(W1)"
      ],
      "metadata": {
        "id": "4--M4gAaOUD1"
      },
      "execution_count": null,
      "outputs": []
    },
    {
      "cell_type": "code",
      "source": [
        "MSE_Loss = ((data_features - recons_data_features1)**2).mean(axis=None)\n",
        "print(f\"MSE between original and reconstructed data: {MSE_Loss:.4f}\")"
      ],
      "metadata": {
        "colab": {
          "base_uri": "https://localhost:8080/"
        },
        "id": "VcDiSLnKPdSa",
        "outputId": "470b1cb5-0ad3-4593-8063-b68522e9bc33"
      },
      "execution_count": null,
      "outputs": [
        {
          "output_type": "stream",
          "name": "stdout",
          "text": [
            "MSE between original and reconstructed data: 0.0489\n"
          ]
        }
      ]
    },
    {
      "cell_type": "code",
      "source": [
        "# for all the principal components\n",
        "\n",
        "W2 = eig_vecs_sorted[:, :] # Projection matrix\n",
        "\n",
        "print(W2.shape)"
      ],
      "metadata": {
        "colab": {
          "base_uri": "https://localhost:8080/"
        },
        "id": "UcbalCuduaI1",
        "outputId": "a5209717-3a32-46ef-d409-73bacb8e5afa"
      },
      "execution_count": null,
      "outputs": [
        {
          "output_type": "stream",
          "name": "stdout",
          "text": [
            "(100, 100)\n"
          ]
        }
      ]
    },
    {
      "cell_type": "code",
      "source": [
        "X_proj2 = data_features.dot(W2.T)\n",
        "\n",
        "print(X_proj2.shape)\n",
        "\n",
        "recons_data_features2 = X_proj2.dot(W2)\n",
        "\n",
        "MSE_Loss2 = ((data_features - recons_data_features2)**2).mean(axis=None)\n",
        "print(f\"MSE between original and reconstructed data: {MSE_Loss2}\")"
      ],
      "metadata": {
        "colab": {
          "base_uri": "https://localhost:8080/"
        },
        "id": "4CbVrmbkvNrZ",
        "outputId": "c983b0f3-879a-4e57-c05a-7598776b4e53"
      },
      "execution_count": null,
      "outputs": [
        {
          "output_type": "stream",
          "name": "stdout",
          "text": [
            "(216, 100)\n",
            "MSE between original and reconstructed data: 5.691665334111982e-27\n"
          ]
        }
      ]
    }
  ]
}