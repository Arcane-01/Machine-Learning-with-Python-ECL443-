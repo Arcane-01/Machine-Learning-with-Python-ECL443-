{
  "cells": [
    {
      "cell_type": "code",
      "execution_count": null,
      "id": "1a85fdb4",
      "metadata": {
        "id": "1a85fdb4"
      },
      "outputs": [],
      "source": [
        "import scipy.io\n",
        "import csv\n",
        "import numpy as np\n",
        "import random\n",
        "import matplotlib.pyplot as plt\n",
        "import torch\n",
        "import torch.nn as nn\n",
        "import torch.nn.functional as F"
      ]
    },
    {
      "cell_type": "code",
      "execution_count": null,
      "id": "35ef3dd7",
      "metadata": {
        "id": "35ef3dd7"
      },
      "outputs": [],
      "source": [
        "# Load .mat file\n",
        "mat = scipy.io.loadmat('/ovarian_dataset.mat')\n",
        "\n",
        "# Specify the variable name to convert to CSV\n",
        "variable_name1 = 'ovarianInputs'\n",
        "variable_name2 = 'ovarianTargets'\n",
        "# Get the data from the loaded .mat file\n",
        "#print(mat)\n",
        "data1 = mat[variable_name1]\n",
        "data2 = mat[variable_name2]\n",
        "\n",
        "# Specify the CSV file name\n",
        "csv_file_1 = '/data_1.csv'\n",
        "csv_file_2 = '/data_2.csv'\n",
        "\n",
        "# Write the data to CSV\n",
        "with open(csv_file_1, 'w', newline='') as csvfile:\n",
        "    csvwriter = csv.writer(csvfile)\n",
        "    #for row in data1:\n",
        "    #    csvwriter.writerow(row)\n",
        "    for idx, row in enumerate(data1):\n",
        "        csvwriter.writerow(row)\n",
        "\n",
        "with open(csv_file_2, 'w', newline='') as csvfile:\n",
        "    csvwriter = csv.writer(csvfile)\n",
        "    #for row in data1:\n",
        "    #    csvwriter.writerow(row)\n",
        "    for idx, row in enumerate(data2):\n",
        "        csvwriter.writerow(row)"
      ]
    },
    {
      "cell_type": "code",
      "execution_count": null,
      "id": "c63914fb",
      "metadata": {
        "colab": {
          "base_uri": "https://localhost:8080/"
        },
        "id": "c63914fb",
        "outputId": "05b57d2f-afe1-4da8-8315-4858b4ee720b"
      },
      "outputs": [
        {
          "output_type": "stream",
          "name": "stdout",
          "text": [
            "[[0.4629009  0.37056538 0.46155038 ... 0.58252597 0.6376844  0.5285913 ]\n",
            " [0.4067361  0.30643103 0.27898014 ... 0.44979998 0.4997217  0.4531509 ]\n",
            " [0.30621526 0.23971474 0.20660846 ... 0.3448874  0.33761558 0.41943002]\n",
            " ...\n",
            " [0.08009822 0.23816822 0.23361854 ... 0.15979104 0.1340081  0.1597645 ]\n",
            " [0.14462107 0.18637255 0.17546801 ... 0.10701832 0.13891271 0.2990377 ]\n",
            " [0.10640488 0.12637317 0.0999025  ... 0.17790702 0.17760101 0.17012326]]\n"
          ]
        }
      ],
      "source": [
        "#Reading Data from .csv file\n",
        "with open('/data_1.csv', 'r') as f:\n",
        "    reader = csv.reader(f)\n",
        "    data_features = list(reader)\n",
        "\n",
        "data_features = np.array(data_features,dtype=np.float32)\n",
        "\n",
        "with open('/data_2.csv', 'r') as f:\n",
        "    reader = csv.reader(f)\n",
        "    data_labels = list(reader)\n",
        "\n",
        "data_labels = np.array(data_labels,dtype=np.float32)\n",
        "#data_labels = data_labels[0,:]\n",
        "#data_labels = data_labels.reshape((1,data_labels.shape[0]))\n",
        "#print(data_array.shape)\n",
        "#print(data_array)\n",
        "\n",
        "\n",
        "\n",
        "print(data_features)"
      ]
    },
    {
      "cell_type": "code",
      "execution_count": null,
      "id": "58126cba",
      "metadata": {
        "colab": {
          "base_uri": "https://localhost:8080/"
        },
        "id": "58126cba",
        "outputId": "73e2bd52-f7a8-4560-93f6-de0e325f45d0"
      },
      "outputs": [
        {
          "output_type": "stream",
          "name": "stdout",
          "text": [
            "(100, 216)\n",
            "216\n",
            "(100,)\n",
            "(100,)\n",
            "(216, 100)\n"
          ]
        }
      ],
      "source": [
        "def mean(x): # np.mean(X, axis = 0)\n",
        "    return sum(x)/len(x)\n",
        "\n",
        "def std(x): # np.std(X, axis = 0)\n",
        "    return (sum((i - mean(x))**2 for i in x)/len(x))**0.5\n",
        "\n",
        "def Standardize_data(X):\n",
        "    xx = X.transpose()\n",
        "    #print(xx)\n",
        "    summ = np.sum(xx, axis=0)\n",
        "    print(xx.shape[0])\n",
        "    mean = summ/xx.shape[0]\n",
        "    print(summ.shape)\n",
        "    stdd = np.std(xx,axis=0)\n",
        "    print(stdd.shape)\n",
        "    #X = X.transpose()\n",
        "    xx = (xx-mean)/stdd\n",
        "    #for i in range(X.shape[1]):\n",
        "    #  X[:i] = (X[:i]-summ[i])/stdd[i]\n",
        "\n",
        "    return xx\n",
        "print(data_features.shape)\n",
        "data_features = Standardize_data(data_features)\n",
        "print(data_features.shape)\n",
        "#data_features_2 = data_features.transpose()\n",
        "#print(data_features)"
      ]
    },
    {
      "cell_type": "code",
      "execution_count": null,
      "id": "87be9dd7",
      "metadata": {
        "colab": {
          "base_uri": "https://localhost:8080/"
        },
        "id": "87be9dd7",
        "outputId": "bb74f90f-f365-4a41-cc1b-1f8f44ced225"
      },
      "outputs": [
        {
          "output_type": "stream",
          "name": "stdout",
          "text": [
            "(100, 100)\n"
          ]
        }
      ],
      "source": [
        "def covariance(x):\n",
        "    #print(x.shape[0])\n",
        "    return (x.T @ x)/(x.shape[0]-1)\n",
        "\n",
        "cov_mat = np.cov(data_features, rowvar=False)\n",
        "\n",
        "# cov_mat = covariance(data_features) # np.cov(X_std.T)\n",
        "print(cov_mat.shape)"
      ]
    },
    {
      "cell_type": "code",
      "execution_count": null,
      "id": "bda5c145",
      "metadata": {
        "colab": {
          "base_uri": "https://localhost:8080/"
        },
        "id": "bda5c145",
        "outputId": "84f1cba3-d103-4c03-c408-be9840d9b4de"
      },
      "outputs": [
        {
          "output_type": "stream",
          "name": "stdout",
          "text": [
            "Eigenvalues \n",
            " [7.84054213e+01 8.32032252e+00 3.91809857e+00 1.62888417e+00\n",
            " 1.18350969e+00 8.60395752e-01 6.86109427e-01 5.48381705e-01\n",
            " 5.11726967e-01 4.32328117e-01 3.91658864e-01 3.56352970e-01\n",
            " 3.06453506e-01 2.74024718e-01 2.26937200e-01 2.23212617e-01\n",
            " 1.82571933e-01 1.61065701e-01 1.40923698e-01 1.26099187e-01\n",
            " 1.11294339e-01 1.07562216e-01 9.30050580e-02 7.29240002e-02\n",
            " 7.69962543e-02 7.94924540e-02 7.92188703e-02 6.23360753e-02\n",
            " 5.84389724e-02 5.69786908e-02 5.42114515e-02 5.12240857e-02\n",
            " 4.81764012e-02 4.68393325e-02 4.51938978e-02 4.17637908e-02\n",
            " 3.93793664e-02 4.00957372e-02 3.64093050e-02 3.22598790e-02\n",
            " 2.86401440e-02 2.77402597e-02 2.45263795e-02 2.19250389e-02\n",
            " 2.02315285e-02 1.92675495e-02 1.78447376e-02 1.65769087e-02\n",
            " 1.54961419e-02 1.45561485e-02 1.27550587e-02 1.22872265e-02\n",
            " 9.91471961e-03 1.07984317e-02 9.08446040e-03 8.35501288e-03\n",
            " 7.87855656e-03 6.98563252e-03 6.42938331e-03 5.87961168e-03\n",
            " 5.66909238e-03 4.51741802e-03 4.73289679e-03 3.78916420e-03\n",
            " 3.29092784e-03 3.15239745e-03 2.84699051e-03 2.51815896e-03\n",
            " 2.45508455e-03 2.28606640e-03 1.73612902e-03 1.54937037e-03\n",
            " 1.18313627e-03 1.24008882e-03 1.37534455e-03 9.13233861e-04\n",
            " 8.34397299e-04 6.99316817e-04 6.45634163e-04 5.25168762e-04\n",
            " 5.00251678e-04 4.23241034e-04 3.87269183e-04 3.00016590e-04\n",
            " 2.64636711e-04 1.00848477e-05 1.16242312e-05 2.27951666e-04\n",
            " 2.65450633e-05 1.77216705e-04 5.84767588e-05 7.87556997e-05\n",
            " 3.15569522e-04 6.40584483e-05 1.06902597e-04 1.20981524e-04\n",
            " 2.12573157e-04 1.49047145e-04 1.42061593e-04 1.27423430e-04]\n",
            "Eigenvectors \n",
            " [[ 0.10294294  0.102941    0.10200796 ... -0.08558719  0.09973182\n",
            "   0.09286085]\n",
            " [ 0.02125965  0.00514432 -0.00245739 ...  0.02664023  0.07525781\n",
            "   0.02171915]\n",
            " [-0.08439754 -0.07462813 -0.05876747 ...  0.04644946  0.06922676\n",
            "  -0.00564931]\n",
            " ...\n",
            " [-0.02766578  0.03124918 -0.02145902 ... -0.00215609  0.00167742\n",
            "  -0.00355118]\n",
            " [ 0.01156562 -0.00761202 -0.0046696  ... -0.00231868 -0.00023759\n",
            "   0.00102394]\n",
            " [-0.0054414   0.0128783  -0.01365091 ... -0.00223831 -0.00183924\n",
            "  -0.00116386]]\n"
          ]
        }
      ],
      "source": [
        "from numpy.linalg import eig\n",
        "\n",
        "# Eigendecomposition of covariance matrix\n",
        "eig_vals, eig_vecs = eig(cov_mat)\n",
        "\n",
        "# Adjusting the eigenvectors (loadings) that are largest in absolute value to be positive\n",
        "max_abs_idx = np.argmax(np.abs(eig_vecs), axis=0)\n",
        "signs = np.sign(eig_vecs[max_abs_idx, range(eig_vecs.shape[0])])\n",
        "eig_vecs = eig_vecs*signs[np.newaxis,:]\n",
        "eig_vecs = eig_vecs.T\n",
        "\n",
        "print('Eigenvalues \\n', eig_vals)\n",
        "print('Eigenvectors \\n', eig_vecs)"
      ]
    },
    {
      "cell_type": "code",
      "execution_count": null,
      "id": "243bfb8b",
      "metadata": {
        "id": "243bfb8b"
      },
      "outputs": [],
      "source": [
        "# We first make a list of (eigenvalue, eigenvector) tuples\n",
        "eig_pairs = [(np.abs(eig_vals[i]), eig_vecs[i,:]) for i in range(len(eig_vals))]\n",
        "\n",
        "# Then, we sort the tuples from the highest to the lowest based on eigenvalues magnitude\n",
        "eig_pairs.sort(key=lambda x: x[0], reverse=True)\n",
        "\n",
        "# For further usage\n",
        "eig_vals_sorted = np.array([x[0] for x in eig_pairs])\n",
        "eig_vecs_sorted = np.array([x[1] for x in eig_pairs])\n",
        "\n",
        "#print(eig_pairs)"
      ]
    },
    {
      "cell_type": "code",
      "execution_count": null,
      "id": "22428d2e",
      "metadata": {
        "colab": {
          "base_uri": "https://localhost:8080/"
        },
        "id": "22428d2e",
        "outputId": "ccdad76e-53a2-4526-8d13-35aa9cc3028e"
      },
      "outputs": [
        {
          "output_type": "stream",
          "name": "stdout",
          "text": [
            "78.0424331181483\n",
            "86.32423561316182\n",
            "90.22419483298711\n",
            "91.84553787421862\n",
            "93.02356835074033\n",
            "93.87998078817638\n",
            "94.56291378192621\n",
            "95.10875668238664\n",
            "8\n",
            "Explained variance: [7.804e+01 8.280e+00 3.900e+00 1.620e+00 1.180e+00 8.600e-01 6.800e-01\n",
            " 5.500e-01 5.100e-01 4.300e-01 3.900e-01 3.500e-01 3.100e-01 2.700e-01\n",
            " 2.300e-01 2.200e-01 1.800e-01 1.600e-01 1.400e-01 1.300e-01 1.100e-01\n",
            " 1.100e-01 9.000e-02 8.000e-02 8.000e-02 8.000e-02 7.000e-02 6.000e-02\n",
            " 6.000e-02 6.000e-02 5.000e-02 5.000e-02 5.000e-02 5.000e-02 4.000e-02\n",
            " 4.000e-02 4.000e-02 4.000e-02 4.000e-02 3.000e-02 3.000e-02 3.000e-02\n",
            " 2.000e-02 2.000e-02 2.000e-02 2.000e-02 2.000e-02 2.000e-02 2.000e-02\n",
            " 1.000e-02 1.000e-02 1.000e-02 1.000e-02 1.000e-02 1.000e-02 1.000e-02\n",
            " 1.000e-02 1.000e-02 1.000e-02 1.000e-02 1.000e-02 0.000e+00 0.000e+00\n",
            " 0.000e+00 0.000e+00 0.000e+00 0.000e+00 0.000e+00 0.000e+00 0.000e+00\n",
            " 0.000e+00 0.000e+00 0.000e+00 0.000e+00 0.000e+00 0.000e+00 0.000e+00\n",
            " 0.000e+00 0.000e+00 0.000e+00 0.000e+00 0.000e+00 0.000e+00 0.000e+00\n",
            " 0.000e+00 0.000e+00 0.000e+00 0.000e+00 0.000e+00 0.000e+00 0.000e+00\n",
            " 0.000e+00 0.000e+00 0.000e+00 0.000e+00 0.000e+00 0.000e+00 0.000e+00\n",
            " 0.000e+00 0.000e+00]\n",
            "Cumulative explained variance: [78.04 86.32 90.22 91.84 93.02 93.88 94.56 95.11 95.62 96.05 96.44 96.79\n",
            " 97.1  97.37 97.6  97.82 98.   98.16 98.3  98.43 98.54 98.65 98.74 98.82\n",
            " 98.9  98.98 99.05 99.11 99.17 99.23 99.28 99.33 99.38 99.43 99.47 99.51\n",
            " 99.55 99.59 99.63 99.66 99.69 99.72 99.74 99.76 99.78 99.8  99.82 99.84\n",
            " 99.86 99.87 99.88 99.89 99.9  99.91 99.92 99.93 99.94 99.95 99.96 99.97\n",
            " 99.98 99.98 99.98 99.98 99.98 99.98 99.98 99.98 99.98 99.98 99.98 99.98\n",
            " 99.98 99.98 99.98 99.98 99.98 99.98 99.98 99.98 99.98 99.98 99.98 99.98\n",
            " 99.98 99.98 99.98 99.98 99.98 99.98 99.98 99.98 99.98 99.98 99.98 99.98\n",
            " 99.98 99.98 99.98 99.98]\n",
            "(8, 100)\n"
          ]
        }
      ],
      "source": [
        "eig_vals_total = sum(eig_vals)\n",
        "i=0\n",
        "cum_sum = 0\n",
        "threshhold = 95\n",
        "while(cum_sum<threshhold):\n",
        "    cum_sum = cum_sum + eig_vals_sorted[i]/eig_vals_total*100\n",
        "    print(cum_sum)\n",
        "    i+=1\n",
        "print(i)\n",
        "explained_variance = [(i / eig_vals_total)*100 for i in eig_vals_sorted]\n",
        "explained_variance = np.round(explained_variance, 2)\n",
        "cum_explained_variance = np.cumsum(explained_variance)\n",
        "\n",
        "print('Explained variance: {}'.format(explained_variance))\n",
        "print('Cumulative explained variance: {}'.format(cum_explained_variance))\n",
        "\n",
        "#plt.plot(np.arange(1,n_features+1), cum_explained_variance, '-o')\n",
        "#plt.xticks(np.arange(1,n_features+1))\n",
        "#plt.xlabel('Number of components')\n",
        "#plt.ylabel('Cumulative explained variance');\n",
        "#plt.show()\n",
        "\n",
        "\n",
        "# Select top k eigenvectors\n",
        "k = i\n",
        "W = eig_vecs_sorted[:k, :] # Projection matrix\n",
        "\n",
        "print(W.shape)"
      ]
    },
    {
      "cell_type": "code",
      "execution_count": null,
      "id": "aa4c5f33",
      "metadata": {
        "colab": {
          "base_uri": "https://localhost:8080/"
        },
        "id": "aa4c5f33",
        "outputId": "359a11f1-50b1-4031-f642-b3861aee0520"
      },
      "outputs": [
        {
          "output_type": "stream",
          "name": "stdout",
          "text": [
            "(216, 8)\n"
          ]
        }
      ],
      "source": [
        "X_proj = data_features.dot(W.T)\n",
        "\n",
        "print(X_proj.shape)"
      ]
    },
    {
      "cell_type": "code",
      "execution_count": null,
      "id": "dede4c73",
      "metadata": {
        "colab": {
          "base_uri": "https://localhost:8080/"
        },
        "id": "dede4c73",
        "outputId": "e497c099-b9a9-4bf8-d476-525bc7b09102"
      },
      "outputs": [
        {
          "output_type": "stream",
          "name": "stdout",
          "text": [
            "(216, 8)\n",
            "Training data size:  (8, 172)\n",
            "Training label size:  (2, 172)\n",
            "Testing data size:  (8, 23)\n",
            "Testing label size:  (2, 23)\n",
            "Validation data size:  (8, 21)\n",
            "Validation label size:  (2, 21)\n"
          ]
        }
      ],
      "source": [
        "def load_file(arr_feat, arr_lab, x1, x2):\n",
        "    #arr_feat = arr_feat.transpose()\n",
        "    arr_lab = arr_lab.transpose()\n",
        "    arr_shape = arr_feat.shape\n",
        "    print(arr_shape)\n",
        "    train = int(x1*arr_shape[0])\n",
        "    val = int(x2*arr_shape[0])\n",
        "    idx = np.random.randint(low=0, high=arr_shape[0], size=arr_shape[0], dtype=int)\n",
        "\n",
        "    new_arr = arr_feat[idx]\n",
        "    new_lbs = arr_lab[idx]\n",
        "    train_arr = new_arr[0:train]\n",
        "    val_arr = new_arr[train:train+val]\n",
        "    test_arr = new_arr[train+val:]\n",
        "    train_lb = new_lbs[0:train]\n",
        "    val_lb = new_lbs[train:train+val]\n",
        "    test_lb = new_lbs[train+val:]\n",
        "\n",
        "    print(\"Training data size: \", train_arr.T.shape)\n",
        "    print(\"Training label size: \",train_lb.T.shape)\n",
        "    print(\"Testing data size: \", test_arr.T.shape)\n",
        "    print(\"Testing label size: \",test_lb.T.shape)\n",
        "    print(\"Validation data size: \",val_arr.T.shape)\n",
        "    print(\"Validation label size: \",val_lb.T.shape)\n",
        "\n",
        "    return train_arr.T, test_arr.T, train_lb.T, test_lb.T, val_arr.T, val_lb.T\n",
        "\n",
        "dataset = load_file(X_proj, data_labels,0.8,0.1)"
      ]
    },
    {
      "cell_type": "code",
      "execution_count": null,
      "id": "367601a2",
      "metadata": {
        "colab": {
          "base_uri": "https://localhost:8080/"
        },
        "id": "367601a2",
        "outputId": "160a3716-3ddb-44cd-d009-17d9e5d5a36f"
      },
      "outputs": [
        {
          "output_type": "stream",
          "name": "stdout",
          "text": [
            "Epoch 1: Cost -0.16969971357008765, Val_accuracy 0.6190476190476191\n",
            "Epoch 2: Cost -0.0731308920868432, Val_accuracy 0.6666666666666666\n",
            "Epoch 3: Cost -0.032855061334715774, Val_accuracy 0.7142857142857143\n",
            "Epoch 4: Cost -0.016490839313451022, Val_accuracy 0.8095238095238095\n",
            "Epoch 5: Cost -0.010271519828592451, Val_accuracy 0.7142857142857143\n",
            "Epoch 6: Cost -0.008340858501383275, Val_accuracy 0.6666666666666666\n",
            "Epoch 7: Cost -0.00820144175567572, Val_accuracy 0.6666666666666666\n",
            "Epoch 8: Cost -0.008783812820047143, Val_accuracy 0.6666666666666666\n",
            "Epoch 9: Cost -0.009627612412888065, Val_accuracy 0.6666666666666666\n",
            "Epoch 10: Cost -0.010533965808698975, Val_accuracy 0.6666666666666666\n",
            "Epoch 11: Cost -0.01141750281672721, Val_accuracy 0.6666666666666666\n",
            "Epoch 12: Cost -0.012242970565697453, Val_accuracy 0.6666666666666666\n",
            "Epoch 13: Cost -0.01299775174509299, Val_accuracy 0.6666666666666666\n",
            "Epoch 14: Cost -0.013679696591705981, Val_accuracy 0.6666666666666666\n",
            "Epoch 15: Cost -0.014291557053986714, Val_accuracy 0.7142857142857143\n",
            "Epoch 16: Cost -0.01483832661359552, Val_accuracy 0.7142857142857143\n",
            "Epoch 17: Cost -0.015325903911754923, Val_accuracy 0.7142857142857143\n",
            "Epoch 18: Cost -0.01576039091969611, Val_accuracy 0.7619047619047619\n",
            "Epoch 19: Cost -0.016147715330712742, Val_accuracy 0.7619047619047619\n",
            "Epoch 20: Cost -0.016493430083208027, Val_accuracy 0.7619047619047619\n",
            "Epoch 21: Cost -0.016802615295424095, Val_accuracy 0.7619047619047619\n",
            "Epoch 22: Cost -0.017079841578669264, Val_accuracy 0.7619047619047619\n",
            "Epoch 23: Cost -0.017329170511383607, Val_accuracy 0.7619047619047619\n",
            "Epoch 24: Cost -0.01755417718520763, Val_accuracy 0.7619047619047619\n",
            "Epoch 25: Cost -0.017757985115917307, Val_accuracy 0.7619047619047619\n",
            "Epoch 26: Cost -0.017943307201816194, Val_accuracy 0.7619047619047619\n",
            "Epoch 27: Cost -0.018112488642752667, Val_accuracy 0.7619047619047619\n",
            "Epoch 28: Cost -0.018267549235375824, Val_accuracy 0.7619047619047619\n",
            "Epoch 29: Cost -0.018410223480337495, Val_accuracy 0.7619047619047619\n",
            "Epoch 30: Cost -0.018541997627598117, Val_accuracy 0.7619047619047619\n",
            "Epoch 31: Cost -0.01866414324781851, Val_accuracy 0.7619047619047619\n",
            "Epoch 32: Cost -0.018777747220423135, Val_accuracy 0.7619047619047619\n",
            "Epoch 33: Cost -0.018883738220906943, Val_accuracy 0.7619047619047619\n",
            "Epoch 34: Cost -0.018982909905659595, Val_accuracy 0.7619047619047619\n",
            "Epoch 35: Cost -0.019075941056265144, Val_accuracy 0.7619047619047619\n",
            "Epoch 36: Cost -0.019163412974017746, Val_accuracy 0.7619047619047619\n",
            "Epoch 37: Cost -0.019245824421321167, Val_accuracy 0.7619047619047619\n",
            "Epoch 38: Cost -0.019323604398070127, Val_accuracy 0.7619047619047619\n",
            "Epoch 39: Cost -0.019397123023863982, Val_accuracy 0.7619047619047619\n",
            "Epoch 40: Cost -0.01946670077492424, Val_accuracy 0.7619047619047619\n",
            "Epoch 41: Cost -0.019532616300550754, Val_accuracy 0.7619047619047619\n",
            "Epoch 42: Cost -0.019595113019592048, Val_accuracy 0.7619047619047619\n",
            "Epoch 43: Cost -0.01965440467383356, Val_accuracy 0.7619047619047619\n",
            "Epoch 44: Cost -0.01971067999309828, Val_accuracy 0.7619047619047619\n",
            "Epoch 45: Cost -0.019764106606539933, Val_accuracy 0.7619047619047619\n",
            "Epoch 46: Cost -0.01981483431628478, Val_accuracy 0.7619047619047619\n",
            "Epoch 47: Cost -0.019862997833217322, Val_accuracy 0.7619047619047619\n",
            "Epoch 48: Cost -0.019908719060279967, Val_accuracy 0.7619047619047619\n",
            "Epoch 49: Cost -0.019952108996021456, Val_accuracy 0.7619047619047619\n",
            "Epoch 50: Cost -0.019993269320145224, Val_accuracy 0.7619047619047619\n",
            "Epoch 51: Cost -0.020032293713335758, Val_accuracy 0.7619047619047619\n",
            "Epoch 52: Cost -0.020069268955466124, Val_accuracy 0.7619047619047619\n",
            "Epoch 53: Cost -0.020104275839330166, Val_accuracy 0.7619047619047619\n",
            "Epoch 54: Cost -0.02013738993108183, Val_accuracy 0.7619047619047619\n",
            "Epoch 55: Cost -0.020168682203521693, Val_accuracy 0.7619047619047619\n",
            "Epoch 56: Cost -0.020198219564084685, Val_accuracy 0.7619047619047619\n",
            "Epoch 57: Cost -0.020226065295780582, Val_accuracy 0.7619047619047619\n",
            "Epoch 58: Cost -0.020252279426290376, Val_accuracy 0.7619047619047619\n",
            "Epoch 59: Cost -0.020276919037872765, Val_accuracy 0.7619047619047619\n",
            "Epoch 60: Cost -0.02030003852858675, Val_accuracy 0.7619047619047619\n",
            "Epoch 61: Cost -0.020321689833551038, Val_accuracy 0.7619047619047619\n",
            "Epoch 62: Cost -0.020341922613454855, Val_accuracy 0.7619047619047619\n",
            "Epoch 63: Cost -0.020360784416291355, Val_accuracy 0.7619047619047619\n",
            "Epoch 64: Cost -0.02037832081724189, Val_accuracy 0.7619047619047619\n",
            "Epoch 65: Cost -0.0203945755407689, Val_accuracy 0.7619047619047619\n",
            "Epoch 66: Cost -0.020409590568258973, Val_accuracy 0.7619047619047619\n",
            "Epoch 67: Cost -0.020423406233956443, Val_accuracy 0.7619047619047619\n",
            "Epoch 68: Cost -0.020436061311427, Val_accuracy 0.7619047619047619\n",
            "Epoch 69: Cost -0.020447593092382588, Val_accuracy 0.7619047619047619\n",
            "Epoch 70: Cost -0.02045803745934971, Val_accuracy 0.7619047619047619\n",
            "Epoch 71: Cost -0.020467428953381106, Val_accuracy 0.7619047619047619\n",
            "Epoch 72: Cost -0.02047580083777184, Val_accuracy 0.7619047619047619\n",
            "Epoch 73: Cost -0.020483185158543027, Val_accuracy 0.7619047619047619\n",
            "Epoch 74: Cost -0.020489612802295776, Val_accuracy 0.7619047619047619\n",
            "Epoch 75: Cost -0.02049511355189798, Val_accuracy 0.7619047619047619\n",
            "Epoch 76: Cost -0.020499716140355007, Val_accuracy 0.7619047619047619\n",
            "Epoch 77: Cost -0.02050344830312273, Val_accuracy 0.7619047619047619\n",
            "Epoch 78: Cost -0.020506336829039407, Val_accuracy 0.7619047619047619\n",
            "Epoch 79: Cost -0.020508407609995893, Val_accuracy 0.7619047619047619\n",
            "Epoch 80: Cost -0.020509685689404478, Val_accuracy 0.7619047619047619\n",
            "Epoch 81: Cost -0.020510195309486945, Val_accuracy 0.7619047619047619\n",
            "Epoch 82: Cost -0.020509959957369372, Val_accuracy 0.7619047619047619\n",
            "Epoch 83: Cost -0.0205090024099413, Val_accuracy 0.7619047619047619\n",
            "Epoch 84: Cost -0.02050734477741456, Val_accuracy 0.7619047619047619\n",
            "Epoch 85: Cost -0.02050500854551357, Val_accuracy 0.7619047619047619\n",
            "Epoch 86: Cost -0.020502014616194886, Val_accuracy 0.7619047619047619\n",
            "Epoch 87: Cost -0.020498383346814864, Val_accuracy 0.7619047619047619\n",
            "Epoch 88: Cost -0.02049413458763938, Val_accuracy 0.7619047619047619\n",
            "Epoch 89: Cost -0.020489287717601945, Val_accuracy 0.7619047619047619\n",
            "Epoch 90: Cost -0.020483861678214643, Val_accuracy 0.7619047619047619\n",
            "Epoch 91: Cost -0.020477875005545265, Val_accuracy 0.7619047619047619\n",
            "Epoch 92: Cost -0.02047134586017907, Val_accuracy 0.7619047619047619\n",
            "Epoch 93: Cost -0.020464292055091815, Val_accuracy 0.7619047619047619\n",
            "Epoch 94: Cost -0.020456731081380797, Val_accuracy 0.7619047619047619\n",
            "Epoch 95: Cost -0.02044868013179768, Val_accuracy 0.7619047619047619\n",
            "Epoch 96: Cost -0.020440156122058517, Val_accuracy 0.7619047619047619\n",
            "Epoch 97: Cost -0.02043117570990144, Val_accuracy 0.7619047619047619\n",
            "Epoch 98: Cost -0.020421755311897882, Val_accuracy 0.7619047619047619\n",
            "Epoch 99: Cost -0.02041191111801699, Val_accuracy 0.7619047619047619\n",
            "Epoch 100: Cost -0.020401659103977954, Val_accuracy 0.7619047619047619\n"
          ]
        }
      ],
      "source": [
        "m = 1\n",
        "def initialize(n_x,C1,C2):\n",
        "#     global W,b\n",
        "    np.random.seed(10)\n",
        "    W1 = np.random.randn(n_x,C1)*0.1\n",
        "    b1 = np.zeros((C1,1))\n",
        "    W2 = np.random.randn(C1,C2)*0.1\n",
        "    b2 = np.zeros((C2,1))\n",
        "\n",
        "    return W1, b1, W2, b2\n",
        "\n",
        "def softmax(z):\n",
        "    t = np.exp(z)\n",
        "    a = t / np.sum(t, keepdims=True, axis=0)\n",
        "    return a\n",
        "\n",
        "def sigmoid(z):\n",
        "    return 1/(1+np.exp(-z))\n",
        "\n",
        "def forward(W, X, b,activation=None):\n",
        "#     global Z,A\n",
        "    Z = np.dot(W.T, X) + b # Z.shape is (C,m)\n",
        "    if activation == 'sigmoid':\n",
        "        A = sigmoid(Z)\n",
        "    else:\n",
        "        A = Z\n",
        "    return Z, A\n",
        "def cost(A, Y_hot):\n",
        "#     global L,J\n",
        "# Calculate Loss\n",
        "    L = 0.5*np.sum((A-Y_hot),keepdims=True, axis=0) # L.shape is (C,m)\n",
        "    J = np.mean(L)\n",
        "    return L,J\n",
        "\n",
        "# Genralized backprop function for multiple layers\n",
        "def backward(X, Y_hot, A, Z, W, b, activation=None,cache=None):\n",
        "#     global dW,db\n",
        "    if activation == 'softmax':\n",
        "        dZ = A - Y_hot\n",
        "    elif activation == 'sigmoid':\n",
        "        dZ = np.dot(cache[1],cache[0])*A*(1-A)\n",
        "    else:\n",
        "        dZ = A - Y_hot\n",
        "\n",
        "    dW = np.dot(X, dZ.T)/m\n",
        "    db = np.mean(dZ, keepdims=True, axis=1)\n",
        "    return dW, db,dZ\n",
        "\n",
        "def update(W, b, dW, db, learning_rate):\n",
        "    W = W - learning_rate*dW\n",
        "    b = b - learning_rate*db\n",
        "    return W,b\n",
        "\n",
        "def SGD(X, Y_hot, W1, b1, W2, b2, learning_rate):\n",
        "    Z1, A1 = forward(W1, X, b1, 'sigmoid')\n",
        "    Z2, A2 = forward(W2, A1, b2, 'softmax')\n",
        "    L, J = cost(A2, Y_hot)\n",
        "    dW2, db2,dZ2 = backward(A1, Y_hot, A2, Z2, W2, b2)\n",
        "    dW1, db1,_ = backward(X, Y_hot, A1, Z1, W1, b1, 'sigmoid',cache=(dZ2,W2))\n",
        "    W1,b1 = update(W1, b1, dW1, db1, learning_rate)\n",
        "    W2,b2 = update(W2, b2, dW2, db2, learning_rate)\n",
        "    return W1,b1,W2,b2,J\n",
        "\n",
        "\n",
        "def predict(W1, b1, W2, b2, X):\n",
        "    _, A1 = forward(W1, X, b1, 'sigmoid')\n",
        "    _, A2 = forward(W2, A1, b2, 'softmax')\n",
        "    return A2\n",
        "\n",
        "def accuracy(Y_pred, Y):\n",
        "    return np.mean(Y_pred == Y)\n",
        "\n",
        "W1, b1, W2, b2 = initialize(8, 16, 2)\n",
        "learning_rate = 0.001\n",
        "costs = []\n",
        "accs = []\n",
        "#use SGD to train the model and validate at same time\n",
        "for i in range(100):\n",
        "    for j in range(dataset[0].shape[1]):\n",
        "        X = dataset[0][:,j].reshape(-1,1)\n",
        "        Y = dataset[2][:,j].reshape(-1,1)\n",
        "        W1,b1,W2,b2,J = SGD(X, Y, W1, b1, W2, b2, learning_rate)\n",
        "    costs.append(abs(J))\n",
        "    #validate\n",
        "    Y_pred = predict(W1, b1, W2, b2, dataset[4])\n",
        "    acc = accuracy(np.argmax(Y_pred, axis=0), np.argmax(dataset[5], axis=0))\n",
        "    print(f'Epoch {i+1}: Cost {J}, Val_accuracy {acc}')\n",
        "    accs.append(acc)\n",
        "\n",
        "# plt.plot(costs)\n",
        "# plt.show()\n",
        "# plt.plot(accs)\n",
        "# plt.show()\n",
        "\n",
        "Y_pred = predict(W1, b1, W2, b2, dataset[1])\n",
        "\n",
        "# confusion matrix\n",
        "from sklearn.metrics import confusion_matrix\n",
        "Y_final = np.where(Y_pred >= 0.6, 1, 0)\n",
        "accuracy(Y_final,dataset[3])\n",
        "# print(\"Accuracy: \", accuracy(Y_final,dataset[3])*100,\"%\")\n",
        "cfm = confusion_matrix(np.argmax(dataset[3],axis=0), np.argmax(Y_pred, axis=0))\n",
        "TP = cfm[0][0]\n",
        "TN = cfm[1][1]\n",
        "FP = cfm[1][0]\n",
        "FN = cfm[1][0]\n",
        "#Specificity\n",
        "Specificity = TN/(TN+FP)\n",
        "#Sensitivity\n",
        "Sensitivity = TP/(TP+FN)\n",
        "# print(f'Specificity: {Specificity}, Sensitivity: {Sensitivity}')"
      ]
    },
    {
      "cell_type": "code",
      "execution_count": null,
      "id": "994d3e29",
      "metadata": {
        "colab": {
          "base_uri": "https://localhost:8080/"
        },
        "id": "994d3e29",
        "outputId": "0d57851f-3088-438c-cc40-271d49742060"
      },
      "outputs": [
        {
          "output_type": "stream",
          "name": "stdout",
          "text": [
            "Accuracy:  91.30434782608695 %\n",
            "Specificity: 1.0, Sensitivity: 1.0\n"
          ]
        }
      ],
      "source": [
        "print(\"Accuracy: \", accuracy(Y_final,dataset[3])*100,\"%\")\n",
        "print(f'Specificity: {Specificity}, Sensitivity: {Sensitivity}')"
      ]
    },
    {
      "cell_type": "code",
      "execution_count": null,
      "id": "1d1107d1",
      "metadata": {
        "colab": {
          "base_uri": "https://localhost:8080/",
          "height": 489
        },
        "id": "1d1107d1",
        "outputId": "85e4fe16-2239-4f8e-f847-5a07d4746986"
      },
      "outputs": [
        {
          "output_type": "execute_result",
          "data": {
            "text/plain": [
              "Text(0.5, 1.0, 'Validation Accuracy vs Epoch')"
            ]
          },
          "metadata": {},
          "execution_count": 30
        },
        {
          "output_type": "display_data",
          "data": {
            "text/plain": [
              "<Figure size 640x480 with 1 Axes>"
            ],
            "image/png": "[encoded data removed]"
          },
          "metadata": {}
        }
      ],
      "source": [
        "plt.plot(accs)\n",
        "plt.xlabel('Epoch')\n",
        "plt.ylabel('Validation Accuracy')\n",
        "plt.title('Validation Accuracy vs Epoch')"
      ]
    },
    {
      "cell_type": "code",
      "execution_count": null,
      "id": "94e6d53f",
      "metadata": {
        "colab": {
          "base_uri": "https://localhost:8080/",
          "height": 472
        },
        "id": "94e6d53f",
        "outputId": "80743ed2-adc4-4daa-9d23-0a1ff79df9b0"
      },
      "outputs": [
        {
          "output_type": "display_data",
          "data": {
            "text/plain": [
              "<Figure size 640x480 with 1 Axes>"
            ],
            "image/png": "[encoded data removed]"
          },
          "metadata": {}
        }
      ],
      "source": [
        "plt.plot(costs)\n",
        "plt.xlabel('Epoch')\n",
        "plt.ylabel('Loss')\n",
        "plt.title('Loss vs Epoch')\n",
        "plt.show()"
      ]
    },
    {
      "cell_type": "code",
      "execution_count": null,
      "id": "c8b08d93",
      "metadata": {
        "colab": {
          "base_uri": "https://localhost:8080/",
          "height": 489
        },
        "id": "c8b08d93",
        "outputId": "721cd9c0-9d44-4e4d-e202-7ac5e0f16df2"
      },
      "outputs": [
        {
          "output_type": "execute_result",
          "data": {
            "text/plain": [
              "Text(0.5, 1.0, 'ROC Curve')"
            ]
          },
          "metadata": {},
          "execution_count": 32
        },
        {
          "output_type": "display_data",
          "data": {
            "text/plain": [
              "<Figure size 640x480 with 1 Axes>"
            ],
            "image/png": "[encoded data removed]"
          },
          "metadata": {}
        }
      ],
      "source": [
        "# ROC curve\n",
        "from sklearn.metrics import roc_curve\n",
        "fpr, tpr, thresholds = roc_curve(np.argmax(dataset[3],axis=0), np.argmax(Y_pred, axis=0))\n",
        "plt.plot(fpr, tpr)\n",
        "plt.xlabel('FPR')\n",
        "plt.ylabel('TPR')\n",
        "plt.title('ROC Curve')"
      ]
    },
    {
      "cell_type": "code",
      "execution_count": null,
      "id": "a5d171a4",
      "metadata": {
        "colab": {
          "base_uri": "https://localhost:8080/"
        },
        "id": "a5d171a4",
        "outputId": "e5a27a21-0f2b-42f2-9e16-8073c4145eac"
      },
      "outputs": [
        {
          "output_type": "stream",
          "name": "stdout",
          "text": [
            "Accuracy:  91.30434782608695 %\n",
            "Specificity: 1.0, Sensitivity: 1.0\n",
            "AUC =  0.9090909090909091\n"
          ]
        }
      ],
      "source": [
        "#AUC\n",
        "from sklearn.metrics import auc\n",
        "print(\"Accuracy: \", accuracy(Y_final,dataset[3])*100,\"%\")\n",
        "print(f'Specificity: {Specificity}, Sensitivity: {Sensitivity}')\n",
        "print(\"AUC = \",auc(fpr, tpr))"
      ]
    }
  ],
  "metadata": {
    "kernelspec": {
      "display_name": "Python 3 (ipykernel)",
      "language": "python",
      "name": "python3"
    },
    "language_info": {
      "codemirror_mode": {
        "name": "ipython",
        "version": 3
      },
      "file_extension": ".py",
      "mimetype": "text/x-python",
      "name": "python",
      "nbconvert_exporter": "python",
      "pygments_lexer": "ipython3",
      "version": "3.11.4"
    },
    "colab": {
      "provenance": []
    }
  },
  "nbformat": 4,
  "nbformat_minor": 5
}