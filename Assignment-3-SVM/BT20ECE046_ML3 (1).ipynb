{
 "cells": [
  {
   "cell_type": "code",
   "execution_count": 351,
   "id": "9b65125f",
   "metadata": {},
   "outputs": [],
   "source": [
    "# SVC Classification\n",
    "\n",
    "# Importing the libraries\n",
    "import numpy as np\n",
    "import matplotlib.pyplot as plt\n",
    "import matplotlib.image as mpimg\n",
    "import pandas as pd"
   ]
  },
  {
   "cell_type": "code",
   "execution_count": 352,
   "id": "f6f3d911",
   "metadata": {},
   "outputs": [],
   "source": [
    "from sklearn.model_selection import GridSearchCV, StratifiedShuffleSplit\n",
    "from sklearn.svm import SVC"
   ]
  },
  {
   "cell_type": "code",
   "execution_count": 353,
   "id": "e5595f7e",
   "metadata": {},
   "outputs": [],
   "source": [
    "# Importing the dataset\n",
    "dataset = pd.read_csv(r\"C:\\Users\\Prajyot\\Downloads\\iris.csv\")"
   ]
  },
  {
   "cell_type": "code",
   "execution_count": 354,
   "id": "a0c6d667",
   "metadata": {},
   "outputs": [
    {
     "data": {
      "text/html": [
       "<div>\n",
       "<style scoped>\n",
       "    .dataframe tbody tr th:only-of-type {\n",
       "        vertical-align: middle;\n",
       "    }\n",
       "\n",
       "    .dataframe tbody tr th {\n",
       "        vertical-align: top;\n",
       "    }\n",
       "\n",
       "    .dataframe thead th {\n",
       "        text-align: right;\n",
       "    }\n",
       "</style>\n",
       "<table border=\"1\" class=\"dataframe\">\n",
       "  <thead>\n",
       "    <tr style=\"text-align: right;\">\n",
       "      <th></th>\n",
       "      <th>sepal_length</th>\n",
       "      <th>sepal_width</th>\n",
       "      <th>petal_length</th>\n",
       "      <th>petal_width</th>\n",
       "      <th>species</th>\n",
       "    </tr>\n",
       "  </thead>\n",
       "  <tbody>\n",
       "    <tr>\n",
       "      <th>0</th>\n",
       "      <td>5.1</td>\n",
       "      <td>3.5</td>\n",
       "      <td>1.4</td>\n",
       "      <td>0.2</td>\n",
       "      <td>setosa</td>\n",
       "    </tr>\n",
       "    <tr>\n",
       "      <th>1</th>\n",
       "      <td>4.9</td>\n",
       "      <td>3.0</td>\n",
       "      <td>1.4</td>\n",
       "      <td>0.2</td>\n",
       "      <td>setosa</td>\n",
       "    </tr>\n",
       "    <tr>\n",
       "      <th>2</th>\n",
       "      <td>4.7</td>\n",
       "      <td>3.2</td>\n",
       "      <td>1.3</td>\n",
       "      <td>0.2</td>\n",
       "      <td>setosa</td>\n",
       "    </tr>\n",
       "    <tr>\n",
       "      <th>3</th>\n",
       "      <td>4.6</td>\n",
       "      <td>3.1</td>\n",
       "      <td>1.5</td>\n",
       "      <td>0.2</td>\n",
       "      <td>setosa</td>\n",
       "    </tr>\n",
       "    <tr>\n",
       "      <th>4</th>\n",
       "      <td>5.0</td>\n",
       "      <td>3.6</td>\n",
       "      <td>1.4</td>\n",
       "      <td>0.2</td>\n",
       "      <td>setosa</td>\n",
       "    </tr>\n",
       "  </tbody>\n",
       "</table>\n",
       "</div>"
      ],
      "text/plain": [
       "   sepal_length  sepal_width  petal_length  petal_width species\n",
       "0           5.1          3.5           1.4          0.2  setosa\n",
       "1           4.9          3.0           1.4          0.2  setosa\n",
       "2           4.7          3.2           1.3          0.2  setosa\n",
       "3           4.6          3.1           1.5          0.2  setosa\n",
       "4           5.0          3.6           1.4          0.2  setosa"
      ]
     },
     "execution_count": 354,
     "metadata": {},
     "output_type": "execute_result"
    }
   ],
   "source": [
    "#looking at the first 5 values of the dataset\n",
    "dataset.head()"
   ]
  },
  {
   "cell_type": "code",
   "execution_count": 355,
   "id": "c5c3a0b9",
   "metadata": {},
   "outputs": [],
   "source": [
    "#Spliting the dataset in independent and dependent variables\n",
    "X = dataset.iloc[:,:4].values\n",
    "y = dataset['species'].values"
   ]
  },
  {
   "cell_type": "code",
   "execution_count": 356,
   "id": "213ab32a",
   "metadata": {},
   "outputs": [],
   "source": [
    "# Splitting the dataset into the Training set and Test set\n",
    "from sklearn.model_selection import train_test_split\n",
    "X_train, X_test, y_train, y_test = train_test_split(X, y, test_size = 0.20, random_state = 82)"
   ]
  },
  {
   "cell_type": "code",
   "execution_count": 357,
   "id": "06e38d8b",
   "metadata": {},
   "outputs": [
    {
     "name": "stdout",
     "output_type": "stream",
     "text": [
      "Training data size:  (120, 4)\n",
      "Training label size:  (120,)\n",
      "Testing data size:  (30, 4)\n",
      "Testing label size:  (30,)\n"
     ]
    }
   ],
   "source": [
    "print(\"Training data size: \",X_train.shape)\n",
    "print(\"Training label size: \",y_train.shape)\n",
    "print(\"Testing data size: \",X_test.shape)\n",
    "print(\"Testing label size: \",y_test.shape)"
   ]
  },
  {
   "cell_type": "code",
   "execution_count": 358,
   "id": "0aa1067e",
   "metadata": {},
   "outputs": [],
   "source": [
    "# Feature Scaling to bring the variable in a single scale\n",
    "from sklearn.preprocessing import StandardScaler\n",
    "sc = StandardScaler()\n",
    "X_train = sc.fit_transform(X_train)\n",
    "X_test = sc.transform(X_test)"
   ]
  },
  {
   "cell_type": "markdown",
   "id": "d7d1ce50",
   "metadata": {},
   "source": [
    "# RBF Kernel"
   ]
  },
  {
   "cell_type": "code",
   "execution_count": 359,
   "id": "97f8eb60",
   "metadata": {},
   "outputs": [
    {
     "name": "stdout",
     "output_type": "stream",
     "text": [
      "The best parameters are {'C': 4.6415888336127775, 'gamma': 0.01} with a score of 0.97\n"
     ]
    }
   ],
   "source": [
    "from sklearn.model_selection import GridSearchCV, StratifiedShuffleSplit\n",
    "\n",
    "C_range = np.logspace(-2, 2, 4)\n",
    "gamma_range = np.logspace(-2, 2, 4)\n",
    "param_grid = dict(gamma=gamma_range, C=C_range)\n",
    "cv = StratifiedShuffleSplit(n_splits=5, test_size=0.2, random_state=42)\n",
    "grid = GridSearchCV(SVC(), param_grid=param_grid, cv=cv)\n",
    "grid.fit(X, y)\n",
    "\n",
    "print(\n",
    "    \"The best parameters are %s with a score of %0.2f\"\n",
    "    % (grid.best_params_, grid.best_score_)\n",
    ")"
   ]
  },
  {
   "cell_type": "code",
   "execution_count": 360,
   "id": "207474e5",
   "metadata": {},
   "outputs": [],
   "source": [
    "# from sklearn.model_selection import GridSearchCV, StratifiedShuffleSplit\n",
    "\n",
    "# C_range = np.logspace(-2, 2, 4)\n",
    "# gamma_range = [0.01]\n",
    "# param_grid = dict(gamma=gamma_range, C=C_range)\n",
    "# cv = StratifiedShuffleSplit(n_splits=5, test_size=0.2, random_state=42)\n",
    "# grid = GridSearchCV(SVC(), param_grid=param_grid, cv=cv)\n",
    "# grid.fit(X, y)\n",
    "\n",
    "# print(\n",
    "#     \"The best parameters are %s with a score of %0.2f\"\n",
    "#     % (grid.best_params_, grid.best_score_)\n",
    "# )"
   ]
  },
  {
   "cell_type": "code",
   "execution_count": 361,
   "id": "1289a963",
   "metadata": {},
   "outputs": [],
   "source": [
    "# print(grid.cv_results_.keys())"
   ]
  },
  {
   "cell_type": "code",
   "execution_count": 362,
   "id": "49e87f8c",
   "metadata": {},
   "outputs": [],
   "source": [
    "# print(grid.cv_results_['param_C'])"
   ]
  },
  {
   "cell_type": "code",
   "execution_count": 363,
   "id": "67df3260",
   "metadata": {},
   "outputs": [],
   "source": [
    "# # importing package\n",
    "# import matplotlib.pyplot as plt\n",
    "# x = grid.cv_results_['param_C']\n",
    "# y = grid.cv_results_['mean_test_score']\n",
    "\n",
    "# # plot line\n",
    "# plt.plot(x, y)\n",
    "# plt.title(\"Accuracy vs C\")\n",
    "# plt.xlabel(\"C\")\n",
    "# plt.ylabel(\"Accuracy\")\n",
    "\n",
    "# plt.show()"
   ]
  },
  {
   "cell_type": "code",
   "execution_count": 364,
   "id": "38e9b217",
   "metadata": {},
   "outputs": [
    {
     "name": "stdout",
     "output_type": "stream",
     "text": [
      "['virginica' 'virginica' 'setosa' 'setosa' 'setosa' 'virginica'\n",
      " 'versicolor' 'versicolor' 'versicolor' 'versicolor' 'versicolor'\n",
      " 'versicolor' 'setosa' 'setosa' 'setosa' 'setosa' 'virginica' 'versicolor'\n",
      " 'setosa' 'versicolor' 'setosa' 'virginica' 'setosa' 'virginica'\n",
      " 'virginica' 'versicolor' 'virginica' 'setosa' 'virginica' 'versicolor']\n"
     ]
    }
   ],
   "source": [
    "svcclassifier = SVC(kernel = 'rbf', gamma = 0.01, C = 4.6415888336127775, random_state = 0)\n",
    "svcclassifier.fit(X_train, y_train)\n",
    "\n",
    "# Predicting the Test set results\n",
    "y_pred = svcclassifier.predict(X_test)\n",
    "print(y_pred)"
   ]
  },
  {
   "cell_type": "code",
   "execution_count": 365,
   "id": "701b71a2",
   "metadata": {},
   "outputs": [
    {
     "name": "stdout",
     "output_type": "stream",
     "text": [
      "Confusion Matrix:\n",
      "[[11  0  0]\n",
      " [ 0  8  1]\n",
      " [ 0  2  8]]\n",
      "Class 0: TPR = 1.00, TNR = 1.00\n",
      "Class 1: TPR = 0.89, TNR = 0.90\n",
      "Class 2: TPR = 0.80, TNR = 0.95\n",
      "Correct predictions:  27\n",
      "False predictions 3\n",
      "Accuracy of the SVC Clasification is:  0.9\n"
     ]
    }
   ],
   "source": [
    "# Making the Confusion Matrix\n",
    "from sklearn.metrics import confusion_matrix\n",
    "cm = confusion_matrix(y_test, y_pred)\n",
    "print('Confusion Matrix:')\n",
    "print(cm)\n",
    "\n",
    "#finding accuracy from the confusion matrix.\n",
    "a = cm.shape\n",
    "corrPred = 0\n",
    "falsePred = 0\n",
    "\n",
    "for row in range(a[0]):\n",
    "    for c in range(a[1]):\n",
    "        if row == c:\n",
    "            corrPred +=cm[row,c]\n",
    "        else:\n",
    "            falsePred += cm[row,c]\n",
    "\n",
    "            n_classes = cm.shape[0]\n",
    "\n",
    "for i in range(n_classes):\n",
    "    tp = cm[i, i]\n",
    "    fn = sum(cm[i, :]) - tp\n",
    "    fp = sum(cm[:, i]) - tp\n",
    "    tn = sum(sum(cm)) - tp - fn - fp\n",
    "    \n",
    "    tpr = tp / (tp + fn)\n",
    "    tnr = tn / (tn + fp)\n",
    "    \n",
    "    print(f\"Class {i}: TPR = {tpr:.2f}, TNR = {tnr:.2f}\")\n",
    "    \n",
    "print('Correct predictions: ', corrPred)\n",
    "print('False predictions', falsePred)\n",
    "kernelRbfAccuracy = corrPred/(cm.sum())\n",
    "print ('Accuracy of the SVC Clasification is: ', corrPred/(cm.sum()))"
   ]
  },
  {
   "cell_type": "markdown",
   "id": "fa74482a",
   "metadata": {},
   "source": [
    "# Sigmoid Kernel"
   ]
  },
  {
   "cell_type": "code",
   "execution_count": 366,
   "id": "97ed7b93",
   "metadata": {},
   "outputs": [
    {
     "name": "stdout",
     "output_type": "stream",
     "text": [
      "The best parameters are {'C': 4.6415888336127775, 'coef0': 0.021544346900318846, 'gamma': 0.01} with a score of 0.86\n"
     ]
    }
   ],
   "source": [
    "# For the sigmoid kernel\n",
    "\n",
    "C_range = np.logspace(-2, 2, 4)\n",
    "gamma_range = np.logspace(-2, 2, 4)\n",
    "coef0_range = np.logspace(-5, 5, 4)\n",
    "param_grid = dict(gamma=gamma_range, C=C_range, coef0=coef0_range)\n",
    "cv = StratifiedShuffleSplit(n_splits=5, test_size=0.2, random_state=42)\n",
    "grid = GridSearchCV(SVC(kernel='sigmoid'), param_grid=param_grid, cv=cv)\n",
    "grid.fit(X, y)\n",
    "\n",
    "print(\n",
    "    \"The best parameters are %s with a score of %0.2f\"\n",
    "    % (grid.best_params_, grid.best_score_)\n",
    ")"
   ]
  },
  {
   "cell_type": "code",
   "execution_count": 367,
   "id": "bb30f574",
   "metadata": {},
   "outputs": [],
   "source": [
    "# # For the sigmoid kernel\n",
    "\n",
    "# C_range = [4.6415888336127775]\n",
    "# coef0_range = [0.021544346900318846]\n",
    "# gamma_range = np.logspace(-2, 2, 4)\n",
    "# param_grid = dict(gamma=gamma_range, C=C_range, coef0=coef0_range)\n",
    "# cv = StratifiedShuffleSplit(n_splits=5, test_size=0.2, random_state=42)\n",
    "# grid = GridSearchCV(SVC(kernel='sigmoid'), param_grid=param_grid, cv=cv)\n",
    "# grid.fit(X, y)\n",
    "\n",
    "# print(\n",
    "#     \"The best parameters are %s with a score of %0.2f\"\n",
    "#     % (grid.best_params_, grid.best_score_)\n",
    "# )"
   ]
  },
  {
   "cell_type": "code",
   "execution_count": 368,
   "id": "e1019a7c",
   "metadata": {},
   "outputs": [],
   "source": [
    "# print(grid.cv_results_.keys())"
   ]
  },
  {
   "cell_type": "code",
   "execution_count": 369,
   "id": "3dba68b4",
   "metadata": {},
   "outputs": [],
   "source": [
    "# print(grid.cv_results_['param_gamma'])"
   ]
  },
  {
   "cell_type": "code",
   "execution_count": 370,
   "id": "a5f49e63",
   "metadata": {},
   "outputs": [],
   "source": [
    "# # importing package\n",
    "# import matplotlib.pyplot as plt\n",
    "# x = grid.cv_results_['param_gamma']\n",
    "# y = grid.cv_results_['mean_test_score']\n",
    "\n",
    "# # plot line\n",
    "# plt.plot(x, y)\n",
    "# plt.title(\"Accuracy vs gamma\")\n",
    "# plt.xlabel(\"C\")\n",
    "# plt.ylabel(\"Accuracy\")\n",
    "\n",
    "# plt.show()"
   ]
  },
  {
   "cell_type": "code",
   "execution_count": 371,
   "id": "3d136cb0",
   "metadata": {},
   "outputs": [
    {
     "name": "stdout",
     "output_type": "stream",
     "text": [
      "['virginica' 'virginica' 'setosa' 'setosa' 'setosa' 'virginica'\n",
      " 'versicolor' 'versicolor' 'versicolor' 'versicolor' 'versicolor'\n",
      " 'versicolor' 'setosa' 'setosa' 'setosa' 'setosa' 'virginica' 'versicolor'\n",
      " 'setosa' 'versicolor' 'setosa' 'virginica' 'setosa' 'virginica'\n",
      " 'virginica' 'versicolor' 'virginica' 'setosa' 'virginica' 'versicolor']\n"
     ]
    }
   ],
   "source": [
    "svcclassifier = SVC(kernel = 'sigmoid', C =4.6415888336127775 , coef0=0.021544346900318846 , gamma = 0.01, random_state = 0)\n",
    "svcclassifier.fit(X_train, y_train)\n",
    "\n",
    "# Predicting the Test set results\n",
    "y_pred = svcclassifier.predict(X_test)\n",
    "print(y_pred)"
   ]
  },
  {
   "cell_type": "code",
   "execution_count": 372,
   "id": "06904fbf",
   "metadata": {},
   "outputs": [
    {
     "name": "stdout",
     "output_type": "stream",
     "text": [
      "Confusion Matrix:\n",
      "[[11  0  0]\n",
      " [ 0  8  1]\n",
      " [ 0  2  8]]\n",
      "Class 0: TPR = 1.00, TNR = 1.00\n",
      "Class 1: TPR = 0.89, TNR = 0.90\n",
      "Class 2: TPR = 0.80, TNR = 0.95\n",
      "Correct predictions:  27\n",
      "False predictions 3\n",
      "Accuracy of the SVC Clasification is:  0.9\n"
     ]
    }
   ],
   "source": [
    "# Making the Confusion Matrix\n",
    "from sklearn.metrics import confusion_matrix\n",
    "cm = confusion_matrix(y_test, y_pred)\n",
    "print('Confusion Matrix:')\n",
    "print(cm)\n",
    "\n",
    "#finding accuracy from the confusion matrix.\n",
    "a = cm.shape\n",
    "corrPred = 0\n",
    "falsePred = 0\n",
    "\n",
    "for row in range(a[0]):\n",
    "    for c in range(a[1]):\n",
    "        if row == c:\n",
    "            corrPred +=cm[row,c]\n",
    "        else:\n",
    "            falsePred += cm[row,c]\n",
    "            \n",
    "n_classes = cm.shape[0]\n",
    "\n",
    "for i in range(n_classes):\n",
    "    tp = cm[i, i]\n",
    "    fn = sum(cm[i, :]) - tp\n",
    "    fp = sum(cm[:, i]) - tp\n",
    "    tn = sum(sum(cm)) - tp - fn - fp\n",
    "    \n",
    "    tpr = tp / (tp + fn)\n",
    "    tnr = tn / (tn + fp)\n",
    "    \n",
    "    print(f\"Class {i}: TPR = {tpr:.2f}, TNR = {tnr:.2f}\")\n",
    "    \n",
    "print('Correct predictions: ', corrPred)\n",
    "print('False predictions', falsePred)\n",
    "kernelSigmoidAccuracy = corrPred/(cm.sum())\n",
    "print ('Accuracy of the SVC Clasification is: ', corrPred/(cm.sum()))"
   ]
  },
  {
   "cell_type": "markdown",
   "id": "96d2fd95",
   "metadata": {},
   "source": [
    "# Polynomial Kernel"
   ]
  },
  {
   "cell_type": "code",
   "execution_count": 373,
   "id": "ab8f28c7",
   "metadata": {},
   "outputs": [
    {
     "name": "stdout",
     "output_type": "stream",
     "text": [
      "The best parameters are {'C': 0.01, 'coef0': 100.0, 'degree': 2, 'gamma': 0.21544346900318834} with a score of 0.99\n"
     ]
    }
   ],
   "source": [
    "# For the polynomial kernel\n",
    "\n",
    "C_range = np.logspace(-2, 2, 4)\n",
    "gamma_range = np.logspace(-2, 2, 4)\n",
    "coef0_range = np.logspace(-2, 2, 4)\n",
    "degree_range = [0,1,2,3,4]\n",
    "param_grid = dict(gamma=gamma_range, C=C_range, coef0=coef0_range, degree=degree_range)\n",
    "cv = StratifiedShuffleSplit(n_splits=5, test_size=0.2, random_state=42)\n",
    "grid = GridSearchCV(SVC(kernel='poly'), param_grid=param_grid, cv=cv)\n",
    "grid.fit(X, y)\n",
    "\n",
    "print(\n",
    "    \"The best parameters are %s with a score of %0.2f\"\n",
    "    % (grid.best_params_, grid.best_score_)\n",
    ")"
   ]
  },
  {
   "cell_type": "code",
   "execution_count": 374,
   "id": "0d08dcf6",
   "metadata": {},
   "outputs": [],
   "source": [
    "# # For the polynomial kernel\n",
    "\n",
    "# C_range = [0.01]\n",
    "# gamma_range = [0.21544346900318834]\n",
    "# coef0_range = [100]\n",
    "# degree_range = [0,1,2,3,4]\n",
    "# param_grid = dict(gamma=gamma_range, C=C_range, coef0=coef0_range, degree=degree_range)\n",
    "# cv = StratifiedShuffleSplit(n_splits=5, test_size=0.2, random_state=42)\n",
    "# grid = GridSearchCV(SVC(kernel='poly'), param_grid=param_grid, cv=cv)\n",
    "# grid.fit(X, y)\n",
    "\n",
    "# print(\n",
    "#     \"The best parameters are %s with a score of %0.2f\"\n",
    "#     % (grid.best_params_, grid.best_score_)\n",
    "# )"
   ]
  },
  {
   "cell_type": "code",
   "execution_count": 375,
   "id": "0be083d6",
   "metadata": {},
   "outputs": [],
   "source": [
    "# print(grid.cv_results_.keys())"
   ]
  },
  {
   "cell_type": "code",
   "execution_count": 376,
   "id": "657b142f",
   "metadata": {},
   "outputs": [],
   "source": [
    "# print(grid.cv_results_['param_degree'])"
   ]
  },
  {
   "cell_type": "code",
   "execution_count": 377,
   "id": "ced6d849",
   "metadata": {},
   "outputs": [],
   "source": [
    "# # importing package\n",
    "# import matplotlib.pyplot as plt\n",
    "# x = grid.cv_results_['param_degree']\n",
    "# y = grid.cv_results_['mean_test_score']\n",
    "\n",
    "# # plot line\n",
    "# plt.plot(x, y)\n",
    "# plt.title(\"Accuracy vs degree\")\n",
    "# plt.xlabel(\"C\")\n",
    "# plt.ylabel(\"Accuracy\")\n",
    "\n",
    "# plt.show()"
   ]
  },
  {
   "cell_type": "code",
   "execution_count": 378,
   "id": "e1a8e4cf",
   "metadata": {},
   "outputs": [
    {
     "name": "stdout",
     "output_type": "stream",
     "text": [
      "['virginica' 'virginica' 'setosa' 'setosa' 'setosa' 'virginica'\n",
      " 'versicolor' 'versicolor' 'virginica' 'versicolor' 'versicolor'\n",
      " 'virginica' 'setosa' 'setosa' 'setosa' 'setosa' 'virginica' 'versicolor'\n",
      " 'setosa' 'versicolor' 'setosa' 'virginica' 'setosa' 'virginica'\n",
      " 'virginica' 'versicolor' 'virginica' 'setosa' 'virginica' 'versicolor']\n"
     ]
    }
   ],
   "source": [
    "svcclassifier = SVC(kernel = 'poly', C = 0.01 , coef0 =  100.0,degree=2, gamma = 0.21544346900318834, random_state = 0)\n",
    "svcclassifier.fit(X_train, y_train)\n",
    "\n",
    "# Predicting the Test set results\n",
    "y_pred = svcclassifier.predict(X_test)\n",
    "print(y_pred)"
   ]
  },
  {
   "cell_type": "code",
   "execution_count": 379,
   "id": "c1056ca2",
   "metadata": {},
   "outputs": [
    {
     "name": "stdout",
     "output_type": "stream",
     "text": [
      "Confusion Matrix:\n",
      "[[11  0  0]\n",
      " [ 0  8  1]\n",
      " [ 0  0 10]]\n",
      "Class 0: TPR = 1.00, TNR = 1.00\n",
      "Class 1: TPR = 0.89, TNR = 1.00\n",
      "Class 2: TPR = 1.00, TNR = 0.95\n",
      "Correct predictions:  29\n",
      "False predictions 1\n",
      "Accuracy of the SVC Clasification is:  0.9666666666666667\n"
     ]
    }
   ],
   "source": [
    "# Making the Confusion Matrix\n",
    "from sklearn.metrics import confusion_matrix\n",
    "cm = confusion_matrix(y_test, y_pred)\n",
    "print('Confusion Matrix:')\n",
    "print(cm)\n",
    "\n",
    "#finding accuracy from the confusion matrix.\n",
    "a = cm.shape\n",
    "corrPred = 0\n",
    "falsePred = 0\n",
    "\n",
    "for row in range(a[0]):\n",
    "    for c in range(a[1]):\n",
    "        if row == c:\n",
    "            corrPred +=cm[row,c]\n",
    "        else:\n",
    "            falsePred += cm[row,c]\n",
    "            \n",
    "n_classes = cm.shape[0]\n",
    "\n",
    "for i in range(n_classes):\n",
    "    tp = cm[i, i]\n",
    "    fn = sum(cm[i, :]) - tp\n",
    "    fp = sum(cm[:, i]) - tp\n",
    "    tn = sum(sum(cm)) - tp - fn - fp\n",
    "    \n",
    "    tpr = tp / (tp + fn)\n",
    "    tnr = tn / (tn + fp)\n",
    "    \n",
    "    print(f\"Class {i}: TPR = {tpr:.2f}, TNR = {tnr:.2f}\")\n",
    "    \n",
    "print('Correct predictions: ', corrPred)\n",
    "print('False predictions', falsePred)\n",
    "kernelPolyAccuracy = corrPred/(cm.sum())\n",
    "print ('Accuracy of the SVC Clasification is: ', corrPred/(cm.sum()))"
   ]
  },
  {
   "cell_type": "code",
   "execution_count": 332,
   "id": "cb570538",
   "metadata": {},
   "outputs": [
    {
     "name": "stdout",
     "output_type": "stream",
     "text": [
      "[[11  0  0]\n",
      " [ 0  8  1]\n",
      " [ 0  0 10]]\n",
      "Class 0: AUROC = nan\n",
      "Class 1: AUROC = nan\n",
      "Class 2: AUROC = nan\n"
     ]
    },
    {
     "name": "stderr",
     "output_type": "stream",
     "text": [
      "C:\\Users\\Prajyot\\anaconda3\\Lib\\site-packages\\sklearn\\metrics\\_ranking.py:1132: UndefinedMetricWarning: No positive samples in y_true, true positive value should be meaningless\n",
      "  warnings.warn(\n",
      "C:\\Users\\Prajyot\\anaconda3\\Lib\\site-packages\\sklearn\\metrics\\_ranking.py:1132: UndefinedMetricWarning: No positive samples in y_true, true positive value should be meaningless\n",
      "  warnings.warn(\n",
      "C:\\Users\\Prajyot\\anaconda3\\Lib\\site-packages\\sklearn\\metrics\\_ranking.py:1132: UndefinedMetricWarning: No positive samples in y_true, true positive value should be meaningless\n",
      "  warnings.warn(\n"
     ]
    },
    {
     "data": {
      "image/png": "[encoded data removed]",
      "text/plain": [
       "<Figure size 1000x800 with 1 Axes>"
      ]
     },
     "metadata": {},
     "output_type": "display_data"
    }
   ],
   "source": [
    "from sklearn.metrics import confusion_matrix, roc_curve, auc\n",
    "import matplotlib.pyplot as plt\n",
    "\n",
    "# Making the Confusion Matrix\n",
    "cm = confusion_matrix(y_test, y_pred)\n",
    "print(cm)\n",
    "\n",
    "n_classes = cm.shape[0]\n",
    "\n",
    "# Calculate ROC and AUROC for each class\n",
    "fpr = dict()\n",
    "tpr = dict()\n",
    "roc_auc = dict()\n",
    "\n",
    "for i in range(n_classes):\n",
    "    tp = cm[i, i]\n",
    "    fn = sum(cm[i, :]) - tp\n",
    "    fp = sum(cm[:, i]) - tp\n",
    "    tn = sum(sum(cm)) - tp - fn - fp\n",
    "\n",
    "    fpr[i], tpr[i], _ = roc_curve([1 if j == i else 0 for j in y_test], [1 if j == i else 0 for j in y_pred])\n",
    "    roc_auc[i] = auc(fpr[i], tpr[i])\n",
    "\n",
    "    print(f\"Class {i}: AUROC = {roc_auc[i]:.2f}\")\n",
    "\n",
    "# Plot ROC curves\n",
    "plt.figure(figsize=(10, 8))\n",
    "for i in range(n_classes):\n",
    "    plt.plot(fpr[i], tpr[i], lw=2, label=f'Class {i} (AUROC = {roc_auc[i]:.2f})')\n",
    "\n",
    "plt.plot([0, 1], [0, 1], color='navy', lw=2, linestyle='--')\n",
    "plt.xlim([0.0, 1.0])\n",
    "plt.ylim([0.0, 1.05])\n",
    "plt.xlabel('False Positive Rate')\n",
    "plt.ylabel('True Positive Rate')\n",
    "plt.title('ROC Curve for Multi-Class Classification')\n",
    "plt.legend(loc='lower right')\n",
    "plt.show()\n"
   ]
  },
  {
   "cell_type": "code",
   "execution_count": null,
   "id": "ceb87517",
   "metadata": {},
   "outputs": [],
   "source": []
  }
 ],
 "metadata": {
  "kernelspec": {
   "display_name": "Python 3 (ipykernel)",
   "language": "python",
   "name": "python3"
  },
  "language_info": {
   "codemirror_mode": {
    "name": "ipython",
    "version": 3
   },
   "file_extension": ".py",
   "mimetype": "text/x-python",
   "name": "python",
   "nbconvert_exporter": "python",
   "pygments_lexer": "ipython3",
   "version": "3.11.4"
  }
 },
 "nbformat": 4,
 "nbformat_minor": 5
}
