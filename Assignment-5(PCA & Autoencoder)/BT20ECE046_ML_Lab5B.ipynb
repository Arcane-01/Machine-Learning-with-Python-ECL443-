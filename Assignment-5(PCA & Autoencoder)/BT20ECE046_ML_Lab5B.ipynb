{
 "cells": [
  {
   "cell_type": "code",
   "execution_count": 1,
   "id": "64691a7b",
   "metadata": {},
   "outputs": [],
   "source": [
    "import scipy.io\n",
    "import csv\n",
    "import numpy as np\n",
    "import random\n",
    "import matplotlib.pyplot as plt\n",
    "import torch\n",
    "import torch.nn as nn\n",
    "import torch.nn.functional as F"
   ]
  },
  {
   "cell_type": "code",
   "execution_count": 2,
   "id": "8a3e0913",
   "metadata": {},
   "outputs": [],
   "source": [
    "# Load .mat file\n",
    "mat = scipy.io.loadmat('ovarian_dataset.mat')\n",
    "\n",
    "# Specify the variable name to convert to CSV\n",
    "variable_name1 = 'ovarianInputs'\n",
    "variable_name2 = 'ovarianTargets'\n",
    "# Get the data from the loaded .mat file\n",
    "#print(mat)\n",
    "data1 = mat[variable_name1]\n",
    "data2 = mat[variable_name2]\n",
    "\n",
    "# Specify the CSV file name\n",
    "csv_file_1 = 'data_1.csv'\n",
    "csv_file_2 = 'data_2.csv'\n",
    "\n",
    "# Write the data to CSV\n",
    "with open(csv_file_1, 'w', newline='') as csvfile:\n",
    "    csvwriter = csv.writer(csvfile)\n",
    "    #for row in data1:\n",
    "    #    csvwriter.writerow(row)\n",
    "    for idx, row in enumerate(data1):\n",
    "        csvwriter.writerow(row)\n",
    "\n",
    "with open(csv_file_2, 'w', newline='') as csvfile:\n",
    "    csvwriter = csv.writer(csvfile)\n",
    "    #for row in data1:\n",
    "    #    csvwriter.writerow(row)\n",
    "    for idx, row in enumerate(data2):\n",
    "        csvwriter.writerow(row)"
   ]
  },
  {
   "cell_type": "code",
   "execution_count": 3,
   "id": "4b171192",
   "metadata": {},
   "outputs": [
    {
     "name": "stdout",
     "output_type": "stream",
     "text": [
      "(100, 216)\n"
     ]
    }
   ],
   "source": [
    "#Reading Data from .csv file\n",
    "with open('data_1.csv', 'r') as f:\n",
    "    reader = csv.reader(f)\n",
    "    data_features = list(reader)\n",
    "\n",
    "data_features = np.array(data_features,dtype=np.float32)\n",
    "\n",
    "with open('data_2.csv', 'r') as f:\n",
    "    reader = csv.reader(f)\n",
    "    data_labels = list(reader)\n",
    "\n",
    "data_labels = np.array(data_labels,dtype=np.float32)\n",
    "#data_labels = data_labels[0,:]\n",
    "#data_labels = data_labels.reshape((1,data_labels.shape[0]))\n",
    "#print(data_array.shape)\n",
    "#print(data_array)\n",
    "\n",
    "\n",
    "\n",
    "print(data_features.shape)\n",
    "# Function to shuffle data and produce training and test data with labels\n",
    "def train_n_test_data(arr_feat, arr_lab, x1, x2):\n",
    "    #arr_feat = arr_feat.transpose()\n",
    "    arr_lab = arr_lab.transpose()\n",
    "    arr_shape = arr_feat.shape\n",
    "    print(arr_shape)\n",
    "    train = int(x1*arr_shape[0])\n",
    "    val = int(x2*arr_shape[0])\n",
    "    idx = np.random.randint(low=0, high=arr_shape[0], size=arr_shape[0], dtype=int)\n",
    "\n",
    "    new_arr = arr_feat[idx]\n",
    "    new_lbs = arr_lab[idx]\n",
    "    train_arr = new_arr[0:train]\n",
    "    val_arr = new_arr[train:train+val]\n",
    "    test_arr = new_arr[train+val:]\n",
    "    train_lb = new_lbs[0:train]\n",
    "    val_lb = new_lbs[train:train+val]\n",
    "    test_lb = new_lbs[train+val:]\n",
    "    return train_arr, train_lb, val_arr, val_lb, test_arr, test_lb\n",
    "\n",
    "#train_arr, train_lb, val_arr, val_lb, test_arr, test_lb = train_n_test_data(data_features, data_labels,0.8,0.1)\n",
    "#print(\"Training data size: \",train_arr.shape)\n",
    "#print(\"Training label size: \",train_lb.shape)\n",
    "#print(\"Validation data size: \",val_arr.shape)\n",
    "#print(\"Validation label size: \",val_lb.shape)\n",
    "#print(\"Testing data size: \",test_arr.shape)\n",
    "#print(\"Testing label size: \",test_lb.shape)\n"
   ]
  },
  {
   "cell_type": "code",
   "execution_count": 4,
   "id": "e89f4eb0",
   "metadata": {},
   "outputs": [],
   "source": [
    "# Creating a PyTorch class\n",
    "# 28*28 ==> 9 ==> 28*28\n",
    "class AE(torch.nn.Module):\n",
    "    def __init__(self):\n",
    "        super().__init__()\n",
    "\n",
    "        # Building an linear encoder with Linear\n",
    "        # layer followed by Relu activation function\n",
    "        # 784 ==> 9\n",
    "        self.encoder = torch.nn.Sequential(\n",
    "            torch.nn.Linear(100, 64),\n",
    "            torch.nn.ReLU(),\n",
    "            torch.nn.Linear(64, 32),\n",
    "            torch.nn.ReLU(),\n",
    "            torch.nn.Linear(32, 8),\n",
    "        )\n",
    "\n",
    "        # Building an linear decoder with Linear\n",
    "        # layer followed by Relu activation function\n",
    "        # The Sigmoid activation function\n",
    "        # outputs the value between 0 and 1\n",
    "        # 9 ==> 784\n",
    "        self.decoder = torch.nn.Sequential(\n",
    "            torch.nn.Linear(8, 32),\n",
    "            torch.nn.ReLU(),\n",
    "            torch.nn.Linear(32, 64),\n",
    "            torch.nn.ReLU(),\n",
    "            torch.nn.Linear(64, 100),\n",
    "            #torch.nn.Sigmoid()\n",
    "        )\n",
    "\n",
    "    def forward(self, x):\n",
    "        encoded = self.encoder(x)\n",
    "        decoded = self.decoder(encoded)\n",
    "        return encoded, decoded"
   ]
  },
  {
   "cell_type": "code",
   "execution_count": 5,
   "id": "026cc458",
   "metadata": {},
   "outputs": [],
   "source": [
    "\n",
    "# Model Initialization\n",
    "model = AE()\n",
    "\n",
    "# Validation using MSE Loss function\n",
    "loss_function = torch.nn.MSELoss()\n",
    "\n",
    "# Using an Adam Optimizer with lr = 0.1\n",
    "optimizer = torch.optim.Adam(model.parameters(),\n",
    "                             lr = 0.005,\n",
    "                             weight_decay = 1e-8)"
   ]
  },
  {
   "cell_type": "code",
   "execution_count": 6,
   "id": "c795c63d",
   "metadata": {},
   "outputs": [
    {
     "data": {
      "text/plain": [
       "[<matplotlib.lines.Line2D at 0x1cd2686add0>]"
      ]
     },
     "execution_count": 6,
     "metadata": {},
     "output_type": "execute_result"
    },
    {
     "data": {
      "image/png": "[encoded data removed]",
      "text/plain": [
       "<Figure size 640x480 with 1 Axes>"
      ]
     },
     "metadata": {},
     "output_type": "display_data"
    }
   ],
   "source": [
    "epochs = 25\n",
    "batch_size = 36\n",
    "outputs = []\n",
    "losses = []\n",
    "for epoch in range(epochs):\n",
    "    for i in range(data_features.shape[1]//batch_size):\n",
    "\n",
    "      batch = data_features[:,i*batch_size:(i+1)*batch_size]\n",
    "      # Reshaping the image to (-1, 784)\n",
    "      #image = image.reshape(-1, 28*28)\n",
    "\n",
    "      # Output of Autoencoder\n",
    "      batch = batch.transpose()\n",
    "      batch = torch.Tensor(batch)\n",
    "      encoded,reconstructed = model(batch)\n",
    "\n",
    "      # Calculating the loss function\n",
    "      #print(reconstructed)\n",
    "      loss = loss_function(reconstructed, batch)\n",
    "\n",
    "      # The gradients are set to zero,\n",
    "      # the gradient is computed and stored.\n",
    "      # .step() performs parameter update\n",
    "      optimizer.zero_grad()\n",
    "      loss.backward()\n",
    "      optimizer.step()\n",
    "\n",
    "      # Storing the losses in a list for plotting\n",
    "      losses.append(loss.detach())\n",
    "    outputs.append((epochs, batch, reconstructed))\n",
    "\n",
    "# Defining the Plot Style\n",
    "#plt.style.use('fivethirtyeight')\n",
    "plt.xlabel('Iterations')\n",
    "plt.ylabel('Loss')\n",
    "\n",
    "# Plotting the last 100 values\n",
    "plt.plot(losses)"
   ]
  },
  {
   "cell_type": "code",
   "execution_count": 7,
   "id": "46f7cd58",
   "metadata": {},
   "outputs": [
    {
     "name": "stdout",
     "output_type": "stream",
     "text": [
      "(216, 8)\n"
     ]
    }
   ],
   "source": [
    "features = torch.Tensor(data_features.transpose())\n",
    "encoded, _ = model(features)\n",
    "latent = encoded.detach().numpy()\n",
    "print(latent.shape)"
   ]
  },
  {
   "cell_type": "code",
   "execution_count": 8,
   "id": "61e2565a",
   "metadata": {},
   "outputs": [
    {
     "name": "stdout",
     "output_type": "stream",
     "text": [
      "(216, 8)\n",
      "Training data size:  (8, 172)\n",
      "Training label size:  (2, 172)\n",
      "Testing data size:  (8, 23)\n",
      "Testing label size:  (2, 23)\n",
      "Validation data size:  (8, 21)\n",
      "Validation label size:  (2, 21)\n"
     ]
    }
   ],
   "source": [
    "def load_file(arr_feat, arr_lab, x1, x2):\n",
    "    #arr_feat = arr_feat.transpose()\n",
    "    arr_lab = arr_lab.transpose()\n",
    "    arr_shape = arr_feat.shape\n",
    "    print(arr_shape)\n",
    "    train = int(x1*arr_shape[0])\n",
    "    val = int(x2*arr_shape[0])\n",
    "    idx = np.random.randint(low=0, high=arr_shape[0], size=arr_shape[0], dtype=int)\n",
    "\n",
    "    new_arr = arr_feat[idx]\n",
    "    new_lbs = arr_lab[idx]\n",
    "    train_arr = new_arr[0:train]\n",
    "    val_arr = new_arr[train:train+val]\n",
    "    test_arr = new_arr[train+val:]\n",
    "    train_lb = new_lbs[0:train]\n",
    "    val_lb = new_lbs[train:train+val]\n",
    "    test_lb = new_lbs[train+val:]\n",
    "    \n",
    "    print(\"Training data size: \", train_arr.T.shape)\n",
    "    print(\"Training label size: \",train_lb.T.shape)\n",
    "    print(\"Testing data size: \", test_arr.T.shape)\n",
    "    print(\"Testing label size: \",test_lb.T.shape)\n",
    "    print(\"Validation data size: \",val_arr.T.shape)\n",
    "    print(\"Validation label size: \",val_lb.T.shape)\n",
    "    \n",
    "    return train_arr.T, test_arr.T, train_lb.T, test_lb.T, val_arr.T, val_lb.T \n",
    "\n",
    "dataset = load_file(latent,data_labels,0.8,0.1)"
   ]
  },
  {
   "cell_type": "code",
   "execution_count": 9,
   "id": "9c9f7250",
   "metadata": {},
   "outputs": [
    {
     "name": "stdout",
     "output_type": "stream",
     "text": [
      "Epoch 1: Cost -0.0022485621143523704, Val_accuracy 0.6666666666666666\n",
      "Epoch 2: Cost -0.002358592089153344, Val_accuracy 0.6666666666666666\n",
      "Epoch 3: Cost -0.002294021008123648, Val_accuracy 0.7619047619047619\n",
      "Epoch 4: Cost -0.002226344933081603, Val_accuracy 0.7619047619047619\n",
      "Epoch 5: Cost -0.0021557863039379788, Val_accuracy 0.8095238095238095\n",
      "Epoch 6: Cost -0.00208235453250899, Val_accuracy 0.8095238095238095\n",
      "Epoch 7: Cost -0.0020062144140618465, Val_accuracy 0.8571428571428571\n",
      "Epoch 8: Cost -0.0019276500605492908, Val_accuracy 0.8571428571428571\n",
      "Epoch 9: Cost -0.0018470325577405466, Val_accuracy 0.8571428571428571\n",
      "Epoch 10: Cost -0.001764791792629672, Val_accuracy 0.8095238095238095\n",
      "Epoch 11: Cost -0.0016813921720966185, Val_accuracy 0.8095238095238095\n",
      "Epoch 12: Cost -0.001597312057718292, Val_accuracy 0.8095238095238095\n",
      "Epoch 13: Cost -0.0015130267583126633, Val_accuracy 0.8095238095238095\n",
      "Epoch 14: Cost -0.0014289948908934313, Val_accuracy 0.8095238095238095\n",
      "Epoch 15: Cost -0.0013456478711220687, Val_accuracy 0.8095238095238095\n",
      "Epoch 16: Cost -0.0012633822449267251, Val_accuracy 0.8095238095238095\n",
      "Epoch 17: Cost -0.001182554534570196, Val_accuracy 0.8095238095238095\n",
      "Epoch 18: Cost -0.0011034782501499751, Val_accuracy 0.8095238095238095\n",
      "Epoch 19: Cost -0.0010264227121599412, Val_accuracy 0.8095238095238095\n",
      "Epoch 20: Cost -0.0009516133407475869, Val_accuracy 0.8095238095238095\n",
      "Epoch 21: Cost -0.000879233089513487, Val_accuracy 0.8095238095238095\n",
      "Epoch 22: Cost -0.0008094247325955983, Val_accuracy 0.8095238095238095\n",
      "Epoch 23: Cost -0.0007422937498247073, Val_accuracy 0.8095238095238095\n",
      "Epoch 24: Cost -0.0006779115928988722, Val_accuracy 0.8095238095238095\n",
      "Epoch 25: Cost -0.0006163191533447576, Val_accuracy 0.8095238095238095\n",
      "Epoch 26: Cost -0.0005575302887489697, Val_accuracy 0.8095238095238095\n",
      "Epoch 27: Cost -0.0005015352961569297, Val_accuracy 0.8095238095238095\n",
      "Epoch 28: Cost -0.00044830425001352037, Val_accuracy 0.8095238095238095\n",
      "Epoch 29: Cost -0.00039779014629726106, Val_accuracy 0.8095238095238095\n",
      "Epoch 30: Cost -0.0003499318146588104, Val_accuracy 0.8095238095238095\n",
      "Epoch 31: Cost -0.0003046565766358367, Val_accuracy 0.8095238095238095\n",
      "Epoch 32: Cost -0.0002618826408207764, Val_accuracy 0.8095238095238095\n",
      "Epoch 33: Cost -0.00022152123559057713, Val_accuracy 0.8095238095238095\n",
      "Epoch 34: Cost -0.00018347848717875648, Val_accuracy 0.8095238095238095\n",
      "Epoch 35: Cost -0.0001476570558991419, Val_accuracy 0.8095238095238095\n",
      "Epoch 36: Cost -0.00011395754663262592, Val_accuracy 0.8095238095238095\n",
      "Epoch 37: Cost -8.227971162202974e-05, Val_accuracy 0.8095238095238095\n",
      "Epoch 38: Cost -5.252346452985779e-05, Val_accuracy 0.8095238095238095\n",
      "Epoch 39: Cost -2.4589724792273282e-05, Val_accuracy 0.8095238095238095\n",
      "Epoch 40: Cost 1.618889139715085e-06, Val_accuracy 0.8095238095238095\n",
      "Epoch 41: Cost 2.6197499956637227e-05, Val_accuracy 0.8095238095238095\n",
      "Epoch 42: Cost 4.923852843449761e-05, Val_accuracy 0.8095238095238095\n",
      "Epoch 43: Cost 7.083135183960643e-05, Val_accuracy 0.8095238095238095\n",
      "Epoch 44: Cost 9.106204979569821e-05, Val_accuracy 0.8095238095238095\n",
      "Epoch 45: Cost 0.00011001322497491972, Val_accuracy 0.8095238095238095\n",
      "Epoch 46: Cost 0.00012776388729168753, Val_accuracy 0.8095238095238095\n",
      "Epoch 47: Cost 0.0001443893915412664, Val_accuracy 0.8095238095238095\n",
      "Epoch 48: Cost 0.00015996141960855637, Val_accuracy 0.8095238095238095\n",
      "Epoch 49: Cost 0.00017454799946570176, Val_accuracy 0.8095238095238095\n",
      "Epoch 50: Cost 0.00018821355418274788, Val_accuracy 0.8095238095238095\n",
      "Epoch 51: Cost 0.00020101897506658029, Val_accuracy 0.8095238095238095\n",
      "Epoch 52: Cost 0.00021302171388437596, Val_accuracy 0.8095238095238095\n",
      "Epoch 53: Cost 0.00022427588981499547, Val_accuracy 0.8095238095238095\n",
      "Epoch 54: Cost 0.00023483240744875955, Val_accuracy 0.8095238095238095\n",
      "Epoch 55: Cost 0.00024473908270225553, Val_accuracy 0.8095238095238095\n",
      "Epoch 56: Cost 0.00025404077401672276, Val_accuracy 0.8095238095238095\n",
      "Epoch 57: Cost 0.0002627795166375013, Val_accuracy 0.8095238095238095\n",
      "Epoch 58: Cost 0.00027099465815419443, Val_accuracy 0.8095238095238095\n",
      "Epoch 59: Cost 0.0002787229938055469, Val_accuracy 0.8095238095238095\n",
      "Epoch 60: Cost 0.00028599890032068864, Val_accuracy 0.8095238095238095\n",
      "Epoch 61: Cost 0.00029285446732735254, Val_accuracy 0.8095238095238095\n",
      "Epoch 62: Cost 0.0002993196255518804, Val_accuracy 0.8095238095238095\n",
      "Epoch 63: Cost 0.00030542227120836096, Val_accuracy 0.8095238095238095\n",
      "Epoch 64: Cost 0.00031118838612864685, Val_accuracy 0.8095238095238095\n",
      "Epoch 65: Cost 0.00031664215330987067, Val_accuracy 0.8095238095238095\n",
      "Epoch 66: Cost 0.0003218060676477841, Val_accuracy 0.8095238095238095\n",
      "Epoch 67: Cost 0.0003267010417326577, Val_accuracy 0.8095238095238095\n",
      "Epoch 68: Cost 0.00033134650663266263, Val_accuracy 0.8095238095238095\n",
      "Epoch 69: Cost 0.00033576050767006316, Val_accuracy 0.8095238095238095\n",
      "Epoch 70: Cost 0.0003399597952251643, Val_accuracy 0.8095238095238095\n",
      "Epoch 71: Cost 0.0003439599106558888, Val_accuracy 0.8095238095238095\n",
      "Epoch 72: Cost 0.00034777526744309006, Val_accuracy 0.8095238095238095\n",
      "Epoch 73: Cost 0.0003514192276942718, Val_accuracy 0.8095238095238095\n",
      "Epoch 74: Cost 0.00035490417416739195, Val_accuracy 0.8095238095238095\n",
      "Epoch 75: Cost 0.00035824157797348377, Val_accuracy 0.8095238095238095\n",
      "Epoch 76: Cost 0.0003614420621377845, Val_accuracy 0.8095238095238095\n",
      "Epoch 77: Cost 0.00036451546120400136, Val_accuracy 0.8095238095238095\n",
      "Epoch 78: Cost 0.00036747087705929493, Val_accuracy 0.8095238095238095\n",
      "Epoch 79: Cost 0.0003703167311711608, Val_accuracy 0.8095238095238095\n",
      "Epoch 80: Cost 0.0003730608134201452, Val_accuracy 0.8095238095238095\n",
      "Epoch 81: Cost 0.0003757103277023388, Val_accuracy 0.8095238095238095\n",
      "Epoch 82: Cost 0.0003782719344923857, Val_accuracy 0.8095238095238095\n",
      "Epoch 83: Cost 0.00038075179052377006, Val_accuracy 0.8095238095238095\n",
      "Epoch 84: Cost 0.0003831555857706781, Val_accuracy 0.8095238095238095\n",
      "Epoch 85: Cost 0.00038548857787293334, Val_accuracy 0.8095238095238095\n",
      "Epoch 86: Cost 0.0003877556241791147, Val_accuracy 0.8095238095238095\n",
      "Epoch 87: Cost 0.00038996121153905827, Val_accuracy 0.8095238095238095\n",
      "Epoch 88: Cost 0.00039210948399737156, Val_accuracy 0.8095238095238095\n",
      "Epoch 89: Cost 0.00039420426851735635, Val_accuracy 0.8095238095238095\n",
      "Epoch 90: Cost 0.00039624909886423754, Val_accuracy 0.8095238095238095\n",
      "Epoch 91: Cost 0.0003982472377691004, Val_accuracy 0.8095238095238095\n",
      "Epoch 92: Cost 0.00040020169748772316, Val_accuracy 0.8095238095238095\n",
      "Epoch 93: Cost 0.00040211525885999744, Val_accuracy 0.8095238095238095\n",
      "Epoch 94: Cost 0.0004039904889766577, Val_accuracy 0.8095238095238095\n",
      "Epoch 95: Cost 0.0004058297575422476, Val_accuracy 0.8095238095238095\n",
      "Epoch 96: Cost 0.00040763525203141304, Val_accuracy 0.8095238095238095\n",
      "Epoch 97: Cost 0.0004094089917149879, Val_accuracy 0.8095238095238095\n",
      "Epoch 98: Cost 0.0004111528406435805, Val_accuracy 0.8095238095238095\n",
      "Epoch 99: Cost 0.0004128685196549131, Val_accuracy 0.8095238095238095\n",
      "Epoch 100: Cost 0.0004145576174824639, Val_accuracy 0.8095238095238095\n"
     ]
    }
   ],
   "source": [
    "m = 1\n",
    "def initialize(n_x,C1,C2):\n",
    "#     global W,b\n",
    "    np.random.seed(10)\n",
    "    W1 = np.random.randn(n_x,C1)*0.1\n",
    "    b1 = np.zeros((C1,1))\n",
    "    W2 = np.random.randn(C1,C2)*0.1\n",
    "    b2 = np.zeros((C2,1))\n",
    "\n",
    "    return W1, b1, W2, b2\n",
    "\n",
    "def softmax(z):\n",
    "    t = np.exp(z)\n",
    "    a = t / np.sum(t, keepdims=True, axis=0)\n",
    "    return a\n",
    "\n",
    "def sigmoid(z):\n",
    "    return 1/(1+np.exp(-z))\n",
    "\n",
    "def forward(W, X, b,activation=None):\n",
    "#     global Z,A\n",
    "    Z = np.dot(W.T, X) + b # Z.shape is (C,m)\n",
    "    if activation == 'sigmoid':\n",
    "        A = sigmoid(Z)\n",
    "    else:\n",
    "        A = Z\n",
    "    return Z, A\n",
    "def cost(A, Y_hot):\n",
    "#     global L,J\n",
    "# Calculate Loss\n",
    "    L = 0.5*np.sum((A-Y_hot),keepdims=True, axis=0) # L.shape is (C,m)\n",
    "    J = np.mean(L)\n",
    "    return L,J\n",
    "\n",
    "# Genralized backprop function for multiple layers\n",
    "def backward(X, Y_hot, A, Z, W, b, activation=None,cache=None):\n",
    "#     global dW,db\n",
    "    if activation == 'softmax':\n",
    "        dZ = A - Y_hot\n",
    "    elif activation == 'sigmoid':\n",
    "        dZ = np.dot(cache[1],cache[0])*A*(1-A)\n",
    "    else:\n",
    "        dZ = A - Y_hot\n",
    "\n",
    "    dW = np.dot(X, dZ.T)/m\n",
    "    db = np.mean(dZ, keepdims=True, axis=1)\n",
    "    return dW, db,dZ\n",
    "\n",
    "def update(W, b, dW, db, learning_rate):\n",
    "    W = W - learning_rate*dW\n",
    "    b = b - learning_rate*db\n",
    "    return W,b\n",
    "\n",
    "def SGD(X, Y_hot, W1, b1, W2, b2, learning_rate):\n",
    "    Z1, A1 = forward(W1, X, b1, 'sigmoid')\n",
    "    Z2, A2 = forward(W2, A1, b2, 'softmax')\n",
    "    L, J = cost(A2, Y_hot)\n",
    "    dW2, db2,dZ2 = backward(A1, Y_hot, A2, Z2, W2, b2)\n",
    "    dW1, db1,_ = backward(X, Y_hot, A1, Z1, W1, b1, 'sigmoid',cache=(dZ2,W2))\n",
    "    W1,b1 = update(W1, b1, dW1, db1, learning_rate)\n",
    "    W2,b2 = update(W2, b2, dW2, db2, learning_rate)\n",
    "    return W1,b1,W2,b2,J\n",
    "\n",
    "\n",
    "def predict(W1, b1, W2, b2, X):\n",
    "    _, A1 = forward(W1, X, b1, 'sigmoid')\n",
    "    _, A2 = forward(W2, A1, b2, 'softmax')\n",
    "    return A2\n",
    "\n",
    "def accuracy(Y_pred, Y):\n",
    "    return np.mean(Y_pred == Y)\n",
    "\n",
    "W1, b1, W2, b2 = initialize(8, 128, 2)\n",
    "learning_rate = 0.001\n",
    "costs = []\n",
    "accs = []\n",
    "#use SGD to train the model and validate at same time\n",
    "for i in range(100):\n",
    "    for j in range(dataset[0].shape[1]):\n",
    "        X = dataset[0][:,j].reshape(-1,1)\n",
    "        Y = dataset[2][:,j].reshape(-1,1)\n",
    "        W1,b1,W2,b2,J = SGD(X, Y, W1, b1, W2, b2, learning_rate)\n",
    "    costs.append(abs(J))\n",
    "    #validate\n",
    "    Y_pred = predict(W1, b1, W2, b2, dataset[4])\n",
    "    acc = accuracy(np.argmax(Y_pred, axis=0), np.argmax(dataset[5], axis=0))\n",
    "    print(f'Epoch {i+1}: Cost {J}, Val_accuracy {acc}')\n",
    "    accs.append(acc)\n",
    "\n",
    "# plt.plot(costs)\n",
    "# plt.show()\n",
    "# plt.plot(accs)\n",
    "# plt.show()\n",
    "\n",
    "Y_pred = predict(W1, b1, W2, b2, dataset[1])\n",
    "\n",
    "# confusion matrix\n",
    "from sklearn.metrics import confusion_matrix\n",
    "Y_final = np.where(Y_pred >= 0.6, 1, 0)\n",
    "accuracy(Y_final,dataset[3])\n",
    "# print(\"Accuracy: \", accuracy(Y_final,dataset[3])*100,\"%\")\n",
    "cfm = confusion_matrix(np.argmax(dataset[3],axis=0), np.argmax(Y_pred, axis=0))\n",
    "TP = cfm[0][0]\n",
    "TN = cfm[1][1]\n",
    "FP = cfm[1][0]\n",
    "FN = cfm[1][0]\n",
    "#Specificity\n",
    "Specificity = TN/(TN+FP)\n",
    "#Sensitivity\n",
    "Sensitivity = TP/(TP+FN)\n",
    "# print(f'Specificity: {Specificity}, Sensitivity: {Sensitivity}')"
   ]
  },
  {
   "cell_type": "code",
   "execution_count": 10,
   "id": "3ee7547b",
   "metadata": {},
   "outputs": [
    {
     "name": "stdout",
     "output_type": "stream",
     "text": [
      "Accuracy:  89.13043478260869 %\n",
      "Specificity: 0.75, Sensitivity: 0.8823529411764706\n"
     ]
    }
   ],
   "source": [
    "print(\"Accuracy: \", accuracy(Y_final,dataset[3])*100,\"%\")\n",
    "print(f'Specificity: {Specificity}, Sensitivity: {Sensitivity}')"
   ]
  },
  {
   "cell_type": "code",
   "execution_count": 11,
   "id": "b9d3e1ed",
   "metadata": {},
   "outputs": [
    {
     "data": {
      "text/plain": [
       "Text(0.5, 1.0, 'Validation Accuracy vs Epoch')"
      ]
     },
     "execution_count": 11,
     "metadata": {},
     "output_type": "execute_result"
    },
    {
     "data": {
      "image/png": "[encoded data removed]",
      "text/plain": [
       "<Figure size 640x480 with 1 Axes>"
      ]
     },
     "metadata": {},
     "output_type": "display_data"
    }
   ],
   "source": [
    "plt.plot(accs)\n",
    "plt.xlabel('Epoch')\n",
    "plt.ylabel('Validation Accuracy')\n",
    "plt.title('Validation Accuracy vs Epoch')"
   ]
  },
  {
   "cell_type": "code",
   "execution_count": 12,
   "id": "b9839701",
   "metadata": {},
   "outputs": [
    {
     "data": {
      "image/png": "[encoded data removed]",
      "text/plain": [
       "<Figure size 640x480 with 1 Axes>"
      ]
     },
     "metadata": {},
     "output_type": "display_data"
    }
   ],
   "source": [
    "plt.plot(costs)\n",
    "plt.xlabel('Epoch')\n",
    "plt.ylabel('Loss')\n",
    "plt.title('Loss vs Epoch')\n",
    "plt.show()"
   ]
  },
  {
   "cell_type": "code",
   "execution_count": 13,
   "id": "72272c73",
   "metadata": {},
   "outputs": [
    {
     "data": {
      "text/plain": [
       "Text(0.5, 1.0, 'ROC Curve')"
      ]
     },
     "execution_count": 13,
     "metadata": {},
     "output_type": "execute_result"
    },
    {
     "data": {
      "image/png": "[encoded data removed]",
      "text/plain": [
       "<Figure size 640x480 with 1 Axes>"
      ]
     },
     "metadata": {},
     "output_type": "display_data"
    }
   ],
   "source": [
    "# ROC curve\n",
    "from sklearn.metrics import roc_curve\n",
    "fpr, tpr, thresholds = roc_curve(np.argmax(dataset[3],axis=0), np.argmax(Y_pred, axis=0))\n",
    "plt.plot(fpr, tpr)\n",
    "plt.xlabel('FPR')\n",
    "plt.ylabel('TPR')\n",
    "plt.title('ROC Curve')"
   ]
  },
  {
   "cell_type": "code",
   "execution_count": 14,
   "id": "c867dd94",
   "metadata": {},
   "outputs": [
    {
     "name": "stdout",
     "output_type": "stream",
     "text": [
      "Accuracy:  89.13043478260869 %\n",
      "Specificity: 0.75, Sensitivity: 0.8823529411764706\n",
      "AUC =  0.875\n"
     ]
    }
   ],
   "source": [
    "#AUC\n",
    "from sklearn.metrics import auc\n",
    "print(\"Accuracy: \", accuracy(Y_final,dataset[3])*100,\"%\")\n",
    "print(f'Specificity: {Specificity}, Sensitivity: {Sensitivity}')\n",
    "print(\"AUC = \",auc(fpr, tpr))"
   ]
  },
  {
   "cell_type": "code",
   "execution_count": null,
   "id": "92fb6671",
   "metadata": {},
   "outputs": [],
   "source": []
  }
 ],
 "metadata": {
  "kernelspec": {
   "display_name": "Python 3 (ipykernel)",
   "language": "python",
   "name": "python3"
  },
  "language_info": {
   "codemirror_mode": {
    "name": "ipython",
    "version": 3
   },
   "file_extension": ".py",
   "mimetype": "text/x-python",
   "name": "python",
   "nbconvert_exporter": "python",
   "pygments_lexer": "ipython3",
   "version": "3.11.4"
  }
 },
 "nbformat": 4,
 "nbformat_minor": 5
}
