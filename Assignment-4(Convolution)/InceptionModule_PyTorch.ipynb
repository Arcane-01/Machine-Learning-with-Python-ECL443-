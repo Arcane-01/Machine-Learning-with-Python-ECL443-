{
 "cells": [
  {
   "cell_type": "code",
   "execution_count": null,
   "metadata": {
    "id": "k3zhBelUV9vF"
   },
   "outputs": [],
   "source": [
    "import torch\n",
    "import torch.nn as nn\n",
    "\n",
    "class InceptionModule(nn.Module):\n",
    "    def __init__(self, in_channels, out_1x1, out_3x3, out_5x5, out_maxpool):\n",
    "        super(InceptionModule, self).__init__()\n",
    "\n",
    "        # 1x1 convolution branch\n",
    "        self.branch1x1 = nn.Sequential(\n",
    "            nn.Conv2d(in_channels, out_1x1, kernel_size=1),\n",
    "            nn.ReLU(inplace=True)\n",
    "        )\n",
    "\n",
    "        # 3x3 convolution branch\n",
    "        self.branch3x3 = nn.Sequential(\n",
    "            nn.Conv2d(in_channels, out_3x3, kernel_size=1),\n",
    "            nn.ReLU(inplace=True),\n",
    "            nn.Conv2d(out_3x3, out_3x3, kernel_size=3, padding=1),\n",
    "            nn.ReLU(inplace=True)\n",
    "        )\n",
    "\n",
    "        # 5x5 convolution branch\n",
    "        self.branch5x5 = nn.Sequential(\n",
    "            nn.Conv2d(in_channels, out_5x5, kernel_size=1),\n",
    "            nn.ReLU(inplace=True),\n",
    "            nn.Conv2d(out_5x5, out_5x5, kernel_size=5, padding=2),\n",
    "            nn.ReLU(inplace=True)\n",
    "        )\n",
    "\n",
    "        # Max-pooling branch\n",
    "        self.branch_maxpool = nn.Sequential(\n",
    "            nn.MaxPool2d(kernel_size=3, stride=1, padding=1),\n",
    "            nn.Conv2d(in_channels, out_maxpool, kernel_size=1),\n",
    "            nn.ReLU(inplace=True)\n",
    "        )\n",
    "\n",
    "    def forward(self, x):\n",
    "        out1x1 = self.branch1x1(x)\n",
    "        out3x3 = self.branch3x3(x)\n",
    "        out5x5 = self.branch5x5(x)\n",
    "        out_maxpool = self.branch_maxpool(x)\n",
    "\n",
    "        # Concatenate the outputs from all branches along the channel dimension\n",
    "        out = torch.cat([out1x1, out3x3, out5x5, out_maxpool], dim=1)\n",
    "\n",
    "        return out\n",
    "\n",
    "# Example usage:\n",
    "in_channels = 64\n",
    "out_1x1 = 16\n",
    "out_3x3 = 24\n",
    "out_5x5 = 8\n",
    "out_maxpool = 16\n",
    "\n",
    "inception = InceptionModule(in_channels, out_1x1, out_3x3, out_5x5, out_maxpool)"
   ]
  }
 ],
 "metadata": {
  "colab": {
   "provenance": []
  },
  "kernelspec": {
   "display_name": "Python 3 (ipykernel)",
   "language": "python",
   "name": "python3"
  },
  "language_info": {
   "codemirror_mode": {
    "name": "ipython",
    "version": 3
   },
   "file_extension": ".py",
   "mimetype": "text/x-python",
   "name": "python",
   "nbconvert_exporter": "python",
   "pygments_lexer": "ipython3",
   "version": "3.11.4"
  }
 },
 "nbformat": 4,
 "nbformat_minor": 1
}
